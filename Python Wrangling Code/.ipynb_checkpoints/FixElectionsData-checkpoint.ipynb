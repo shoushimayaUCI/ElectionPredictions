{
 "cells": [
  {
   "cell_type": "code",
   "execution_count": 1,
   "metadata": {},
   "outputs": [],
   "source": [
    "#This python file to be run after \"CombineElections1File.sql\"\n",
    "#sql file just puts all the data from the seperate files into 1 csv\n",
    "import warnings\n",
    "warnings.simplefilter(action='ignore', category=FutureWarning)\n",
    "\n",
    "import pandas as pd\n",
    "import numpy as np\n",
    "\n",
    "\n",
    "pd.options.mode.chained_assignment = None #remove warning"
   ]
  },
  {
   "cell_type": "markdown",
   "metadata": {},
   "source": [
    "## Fix raw election data"
   ]
  },
  {
   "cell_type": "code",
   "execution_count": 2,
   "metadata": {},
   "outputs": [],
   "source": [
    "elections = pd.read_csv(\"C:\\\\Users\\\\Roy\\\\Desktop\\\\Project\\\\ElectionData\\\\elections.csv\")"
   ]
  },
  {
   "cell_type": "code",
   "execution_count": 3,
   "metadata": {},
   "outputs": [],
   "source": [
    "#Final dataframe after wrangling\n",
    "#elections"
   ]
  },
  {
   "cell_type": "code",
   "execution_count": 4,
   "metadata": {
    "scrolled": true
   },
   "outputs": [],
   "source": [
    "#display(elections.dtypes)"
   ]
  },
  {
   "cell_type": "code",
   "execution_count": 5,
   "metadata": {},
   "outputs": [],
   "source": [
    "#Change race date just to year\n",
    "elections = elections.astype({\"racedate\":\"str\"})\n",
    "elections['racedate'] = elections['racedate'].str[0:4]\n",
    "elections = elections.astype({\"racedate\":\"int\"})"
   ]
  },
  {
   "cell_type": "code",
   "execution_count": 6,
   "metadata": {},
   "outputs": [],
   "source": [
    "#Remove commas from vote counts and cast to int\n",
    "elections = elections.dropna(subset = ['repvotes','demvotes','pluralityvotes'])\n",
    "\n",
    "elections['repvotes'] = elections['repvotes'].str.replace(\",\",\"\")\n",
    "elections['demvotes'] = elections['demvotes'].str.replace(\",\",\"\")\n",
    "elections['pluralityvotes'] = elections['pluralityvotes'].str.replace(\",\",\"\")\n",
    "\n",
    "elections = elections.astype({\"repvotes\":\"int\",\"demvotes\":\"int\",\n",
    "                             \"pluralityvotes\":\"int\"})"
   ]
  },
  {
   "cell_type": "code",
   "execution_count": 7,
   "metadata": {},
   "outputs": [],
   "source": [
    "#Make county name lowercase then capitalize first letter each word ie \"los angeles\" --> \"Los Angeles\"\n",
    "#This is to make name matching with other tables that will be joined\n",
    "elections['area'] = elections['area'].str.lower()\n",
    "elections['area'] = elections['area'].str.title()"
   ]
  },
  {
   "cell_type": "code",
   "execution_count": 8,
   "metadata": {},
   "outputs": [],
   "source": [
    "#Rename some columns\n",
    "elections = elections.rename(columns = {\"area\":\"county\", \"racedate\":\"year\", \"pluralityparty\":\"winningParty\"})"
   ]
  },
  {
   "cell_type": "code",
   "execution_count": 9,
   "metadata": {},
   "outputs": [],
   "source": [
    "# Add which party won the county last time for the same election office if available\n",
    "# We know the we input the files in sql as all presidential, all senate, then all gubernational elections\n",
    "# starting from 2020 to 1990. We can use this information to assign the winning party in the last election\n",
    "# as the winningparty in the next occurance of it's state/county/office values in our dataset else null if early 90's\n",
    "\n",
    "ess = elections[[\"year\",\"office\",\"state\",\"county\",\"winningParty\"]].values.tolist()\n",
    "lastVote = np.zeros(len(ess), dtype = 'object')"
   ]
  },
  {
   "cell_type": "code",
   "execution_count": 10,
   "metadata": {},
   "outputs": [],
   "source": [
    "for i in range(0, len(ess)):\n",
    "    \n",
    "    county = ess[i][3]\n",
    "    state = ess[i][2]\n",
    "    office = ess[i][1]\n",
    "    \n",
    "    for j in range(i + 1, len(ess)):\n",
    "        \n",
    "        if (county == ess[j][3]) and (state == ess[j][2]) and (office == ess[j][1]):\n",
    "            \n",
    "            lastVote[i] = ess[j][4]\n",
    "            break #So we get the next election ie 2020 pres will take 2016 in the same county \n",
    "                  #then stop looking to not get more than the last election\n",
    "                  #Else, leave the array value as \"0.\" and make those null later"
   ]
  },
  {
   "cell_type": "code",
   "execution_count": 11,
   "metadata": {},
   "outputs": [],
   "source": [
    "elections['LastPartyWon'] = lastVote.tolist()"
   ]
  },
  {
   "cell_type": "code",
   "execution_count": 12,
   "metadata": {},
   "outputs": [],
   "source": [
    "# Do quick checks on LastPartyWon column correctness\n",
    "#elections.loc[(elections['state'] == 'Kentucky') & (elections['office'] == 'Senate') & (elections['county'] == 'Boyle') ]"
   ]
  },
  {
   "cell_type": "code",
   "execution_count": 13,
   "metadata": {},
   "outputs": [],
   "source": [
    "# Add results of each election at state level each county row\n",
    "testFrame = elections\n",
    "\n",
    "df_new = testFrame.groupby(['state', 'office', 'year'])[\"repvotes\", \"demvotes\"].sum()"
   ]
  },
  {
   "cell_type": "code",
   "execution_count": 14,
   "metadata": {},
   "outputs": [],
   "source": [
    "df_new['StateResult'] = np.where(\n",
    "    df_new['repvotes'] > df_new['demvotes'], 'R', 'D')\n",
    "\n",
    "del df_new['repvotes']\n",
    "del df_new['demvotes']\n",
    "\n",
    "elections = pd.merge(elections, df_new, how = \"inner\",\n",
    "                    on = [\"state\", \"office\", \"year\"])"
   ]
  },
  {
   "cell_type": "code",
   "execution_count": 15,
   "metadata": {},
   "outputs": [],
   "source": [
    "# Add CountyStateRatio - Ratio of how many times county election outcome matches state election outcome\n",
    "testFrame = elections[['state','county','winningParty','StateResult']]\n",
    "\n",
    "# Set binary outcome column to 1 if county outcome matches state outcome, 0 if no match and take mean to get ratio\n",
    "testFrame['matchingOutcomes'] = np.where(\n",
    "    testFrame['winningParty'] == testFrame['StateResult'], 1, 0)"
   ]
  },
  {
   "cell_type": "code",
   "execution_count": 16,
   "metadata": {},
   "outputs": [],
   "source": [
    "del testFrame['winningParty']\n",
    "del testFrame['StateResult']\n",
    "\n",
    "df = testFrame.groupby(['state','county'], as_index = False)['matchingOutcomes'].mean()"
   ]
  },
  {
   "cell_type": "code",
   "execution_count": 17,
   "metadata": {},
   "outputs": [],
   "source": [
    "elections = pd.merge(elections, df, how = \"inner\",\n",
    "                    on = [\"state\",\"county\"])"
   ]
  },
  {
   "cell_type": "markdown",
   "metadata": {},
   "source": [
    "## Add 2020 Presidential Polling Data (State level)"
   ]
  },
  {
   "cell_type": "code",
   "execution_count": 18,
   "metadata": {},
   "outputs": [],
   "source": [
    "#df is the combined data before adding polling data\n",
    "df = pd.read_csv(\"C:\\\\Users\\\\Roy\\\\Desktop\\\\Project\\\\combinedData.csv\")\n",
    "pres2020 = pd.read_csv(\"C:\\\\Users\\\\Roy\\\\Desktop\\\\Project\\\\StatePollingData\\\\2020Pres538PollAvgs.csv\")"
   ]
  },
  {
   "cell_type": "code",
   "execution_count": 19,
   "metadata": {},
   "outputs": [],
   "source": [
    "#Only the latest poll values since polls closer to election are better than polls\n",
    "#months before elections due to undecided voters making their mind\n",
    "\n",
    "pres2020 = pres2020.loc[pres2020['modeldate'] == '11/3/2020']\n",
    "del pres2020['pct_estimate']"
   ]
  },
  {
   "cell_type": "code",
   "execution_count": 20,
   "metadata": {},
   "outputs": [],
   "source": [
    "pres2020D = pres2020[pres2020['candidate_name'] == 'Joseph R. Biden Jr.']\n",
    "pres2020R = pres2020[pres2020['candidate_name'] == 'Donald Trump']"
   ]
  },
  {
   "cell_type": "code",
   "execution_count": 21,
   "metadata": {},
   "outputs": [],
   "source": [
    "del pres2020D['candidate_name']\n",
    "del pres2020D['modeldate']\n",
    "\n",
    "del pres2020R['candidate_name']\n",
    "del pres2020R['modeldate']"
   ]
  },
  {
   "cell_type": "code",
   "execution_count": 22,
   "metadata": {},
   "outputs": [],
   "source": [
    "pres2020D = pres2020D.rename(columns={\"pct_trend_adjusted\": \"DemPoll\", \"cycle\": \"year\"})\n",
    "pres2020R = pres2020R.rename(columns={\"pct_trend_adjusted\": \"RepPoll\", \"cycle\": \"year\"})"
   ]
  },
  {
   "cell_type": "code",
   "execution_count": 23,
   "metadata": {},
   "outputs": [],
   "source": [
    "poll2020Pres = pd.merge(pres2020D, pres2020R, how = \"inner\",\n",
    "                        on = [\"state\", \"year\"])\n",
    "\n",
    "poll2020Pres = poll2020Pres[['DemPoll','RepPoll','state','year']]\n",
    "\n",
    "#For joining purposes\n",
    "poll2020Pres['office'] = 'President'"
   ]
  },
  {
   "cell_type": "markdown",
   "metadata": {},
   "source": [
    "## Add 1992 - 2016 Presidential Poll Data (State level) (FiveThirtyEight)"
   ]
  },
  {
   "cell_type": "code",
   "execution_count": 24,
   "metadata": {},
   "outputs": [],
   "source": [
    "#pres contains FiveThirtyEight's weighted polling averages of it's collected polls for presidential\n",
    "#elections from 1968-2016\n",
    "\n",
    "pres = pd.read_csv(\"C:\\\\Users\\\\Roy\\\\Desktop\\\\Project\\\\StatePollingData\\\\1968to2016Pres538PollAvgs.csv\",\n",
    "                  usecols = [0,1,2,3,6])\n",
    "\n",
    "electionDates = [\"11/8/2016\",\"11/6/2012\",\"11/4/2008\",\"11/2/2004\",\n",
    "                 \"11/7/2000\",\"11/5/1996\",\"11/3/1992\"]"
   ]
  },
  {
   "cell_type": "code",
   "execution_count": 25,
   "metadata": {},
   "outputs": [],
   "source": [
    "pres = pres.loc[pres['modeldate'].isin(electionDates)]"
   ]
  },
  {
   "cell_type": "code",
   "execution_count": 26,
   "metadata": {},
   "outputs": [],
   "source": [
    "demCandidates = ['Hillary Rodham Clinton','Barack Obama',\n",
    "                 'John Kerry','Al Gore','Bill Clinton']\n",
    "\n",
    "presD = pres.loc[pres['candidate_name'].isin(demCandidates)]\n",
    "\n",
    "repCandidates = ['Donald Trump','Mitt Romney', 'John McCain', \n",
    "                 'George W. Bush', 'George Bush', 'Bob Dole']\n",
    "\n",
    "presR = pres.loc[pres['candidate_name'].isin(repCandidates)]"
   ]
  },
  {
   "cell_type": "code",
   "execution_count": 27,
   "metadata": {},
   "outputs": [],
   "source": [
    "del presR[\"modeldate\"]\n",
    "del presR[\"candidate_name\"]\n",
    "del presD[\"modeldate\"]\n",
    "del presD[\"candidate_name\"]"
   ]
  },
  {
   "cell_type": "code",
   "execution_count": 28,
   "metadata": {},
   "outputs": [],
   "source": [
    "presD = presD.rename(columns={\"pct_trend_adjusted\": \"DemPoll\", \"cycle\": \"year\"})\n",
    "presR = presR.rename(columns={\"pct_trend_adjusted\": \"RepPoll\", \"cycle\": \"year\"})"
   ]
  },
  {
   "cell_type": "code",
   "execution_count": 29,
   "metadata": {},
   "outputs": [],
   "source": [
    "pollPres = pd.merge(presD, presR, how = \"inner\",\n",
    "                        on = [\"state\", \"year\"])\n",
    "\n",
    "pollPres = pollPres[['DemPoll','RepPoll','state','year']]\n",
    "\n",
    "#Estimating senate & gov poll values using  president poll values in pres election years\n",
    "senPollsPresYrs = pollPres.copy()\n",
    "govPollsPresYrs = pollPres.copy()\n",
    "\n",
    "sen2020 = poll2020Pres.copy()\n",
    "gov2020 = poll2020Pres.copy()\n",
    "\n",
    "gov1990 = pollPres[pollPres['year'] == 1992].copy()\n",
    "gov1991 = pollPres[pollPres['year'] == 1992].copy()\n",
    "gov1990['year'] = 1990\n",
    "gov1991['year'] = 1991\n",
    "\n",
    "sen1990 = pollPres[pollPres['year'] == 1992].copy()\n",
    "sen1990['year'] = 1990\n",
    "\n",
    "\n",
    "#For joining purposes\n",
    "pollPres['office'] = 'President'\n",
    "senPollsPresYrs['office'] = 'Senate'\n",
    "govPollsPresYrs['office'] = 'Governor'\n",
    "sen2020['office'] = 'Senate'\n",
    "sen1990['office'] = 'Senate'\n",
    "gov2020['office'] = 'Governor'\n",
    "gov1990['office'] = 'Governor'\n",
    "gov1991['office'] = 'Governor'\n"
   ]
  },
  {
   "cell_type": "code",
   "execution_count": 30,
   "metadata": {},
   "outputs": [],
   "source": [
    "allPresPolls = pd.concat([poll2020Pres, pollPres, senPollsPresYrs, govPollsPresYrs, sen2020, gov2020,\n",
    "                         gov1990, gov1991, sen1990], ignore_index = True)"
   ]
  },
  {
   "cell_type": "markdown",
   "metadata": {},
   "source": [
    "## Add 2014 & 2018 Senate/Governor polling (Roper Center)"
   ]
  },
  {
   "cell_type": "code",
   "execution_count": 31,
   "metadata": {},
   "outputs": [
    {
     "name": "stderr",
     "output_type": "stream",
     "text": [
      "C:\\Users\\Roy\\anaconda3\\lib\\site-packages\\IPython\\core\\interactiveshell.py:3146: DtypeWarning: Columns (73,119) have mixed types.Specify dtype option on import or set low_memory=False.\n",
      "  has_raised = await self.run_ast_nodes(code_ast.body, cell_name,\n"
     ]
    }
   ],
   "source": [
    "poll2014 = pd.read_csv(\"C:\\\\Users\\\\Roy\\\\Desktop\\\\Project\\\\StatePollingData\\\\SenGov2014.csv\")\n",
    "poll2018 = pd.read_csv(\"C:\\\\Users\\\\Roy\\\\Desktop\\\\Project\\\\StatePollingData\\\\SenGov2018.csv\")"
   ]
  },
  {
   "cell_type": "code",
   "execution_count": 32,
   "metadata": {},
   "outputs": [],
   "source": [
    "poll2014 = poll2014[[\"gov\",\"sen\",\"stanum\"]]\n",
    "poll2018 = poll2018[[\"GOV\",\"SEN\",\"STANUM\"]].rename(columns = {\"GOV\":\"gov\",\"SEN\":\"sen\",\"STANUM\":\"stanum\"})\n",
    "\n",
    "poll2014['year'] = 2014\n",
    "poll2018['year'] = 2018"
   ]
  },
  {
   "cell_type": "code",
   "execution_count": 33,
   "metadata": {},
   "outputs": [],
   "source": [
    "poll1418 = pd.concat([poll2014,poll2018], ignore_index = True)"
   ]
  },
  {
   "cell_type": "code",
   "execution_count": 34,
   "metadata": {},
   "outputs": [],
   "source": [
    "poll1418Sen = poll1418[['sen','stanum','year']]\n",
    "poll1418Gov = poll1418[['gov','stanum','year']]"
   ]
  },
  {
   "cell_type": "code",
   "execution_count": 35,
   "metadata": {},
   "outputs": [],
   "source": [
    "#Drop people who didn't vote in election of interest\n",
    "dropList = [' ']\n",
    "\n",
    "poll1418Sen = poll1418Sen[poll1418Sen.sen.isin(dropList) == False]\n",
    "poll1418Gov = poll1418Gov[poll1418Gov.gov.isin(dropList) == False]"
   ]
  },
  {
   "cell_type": "code",
   "execution_count": 36,
   "metadata": {},
   "outputs": [],
   "source": [
    "poll1418Gov['DemCount'] = 0\n",
    "poll1418Gov['RepCount'] = 0\n",
    "poll1418Gov['DNV'] = 0\n",
    "poll1418Gov['OtherCan'] = 0\n",
    "\n",
    "poll1418Gov.loc[poll1418Gov['gov'] == 'The Democratic candidate', 'DemCount'] = 1\n",
    "poll1418Gov.loc[poll1418Gov['gov'] == 'The Republican candidate', 'RepCount'] = 1\n",
    "poll1418Gov.loc[poll1418Gov['gov'] == 'Did not vote', 'DNV'] = 1\n",
    "poll1418Gov.loc[poll1418Gov['gov'] == 'Other', 'OtherCan'] = 1\n",
    "\n",
    "poll1418Sen['DemCount'] = 0\n",
    "poll1418Sen['RepCount'] = 0\n",
    "poll1418Sen['DNV'] = 0\n",
    "poll1418Sen['OtherCan'] = 0\n",
    "\n",
    "poll1418Sen.loc[poll1418Sen['sen'] == 'The Democratic candidate', 'DemCount'] = 1\n",
    "poll1418Sen.loc[poll1418Sen['sen'] == 'The Republican candidate', 'RepCount'] = 1\n",
    "poll1418Sen.loc[poll1418Sen['sen'] == 'Did not vote', 'DNV'] = 1\n",
    "poll1418Sen.loc[poll1418Sen['sen'] == 'Other', 'OtherCan'] = 1\n",
    "\n",
    "del poll1418Gov['gov']\n",
    "del poll1418Sen['sen']"
   ]
  },
  {
   "cell_type": "code",
   "execution_count": 37,
   "metadata": {},
   "outputs": [],
   "source": [
    "poll1418Gov = poll1418Gov.groupby(['stanum','year'], as_index = False)['DemCount','RepCount','DNV','OtherCan'].sum()"
   ]
  },
  {
   "cell_type": "code",
   "execution_count": 38,
   "metadata": {},
   "outputs": [],
   "source": [
    "poll1418Gov['DemPoll'] = poll1418Gov['DemCount'] / (poll1418Gov['DemCount'] + poll1418Gov['RepCount'] + poll1418Gov['DNV'] + poll1418Gov['OtherCan'])\n",
    "poll1418Gov['RepPoll'] = poll1418Gov['RepCount'] / (poll1418Gov['DemCount'] + poll1418Gov['RepCount'] + poll1418Gov['DNV'] + poll1418Gov['OtherCan'])"
   ]
  },
  {
   "cell_type": "code",
   "execution_count": 39,
   "metadata": {},
   "outputs": [],
   "source": [
    "poll1418Sen = poll1418Sen.groupby(['stanum','year'], as_index = False)['DemCount','RepCount','DNV','OtherCan'].sum()"
   ]
  },
  {
   "cell_type": "code",
   "execution_count": 40,
   "metadata": {},
   "outputs": [],
   "source": [
    "poll1418Sen['DemPoll'] = poll1418Sen['DemCount'] / (poll1418Sen['DemCount'] + poll1418Sen['RepCount'] + poll1418Sen['DNV'] + poll1418Sen['OtherCan'])\n",
    "poll1418Sen['RepPoll'] = poll1418Sen['RepCount'] / (poll1418Sen['DemCount'] + poll1418Sen['RepCount'] + poll1418Sen['DNV'] + poll1418Sen['OtherCan'])"
   ]
  },
  {
   "cell_type": "code",
   "execution_count": 41,
   "metadata": {},
   "outputs": [],
   "source": [
    "poll1418Sen = poll1418Sen[[\"DemPoll\",\"RepPoll\",\"stanum\",\"year\"]]\n",
    "poll1418Sen['office'] = 'Senate'\n",
    "\n",
    "poll1418Gov = poll1418Gov[[\"DemPoll\",\"RepPoll\",\"stanum\",\"year\"]]\n",
    "poll1418Gov['office'] = 'Governor'\n",
    "\n",
    "polls1418 = pd.concat([poll1418Sen, poll1418Gov], ignore_index = True)\n",
    "polls1418 = polls1418.rename(columns = {'stanum':'state'})"
   ]
  },
  {
   "cell_type": "code",
   "execution_count": 42,
   "metadata": {},
   "outputs": [],
   "source": [
    "polls = pd.concat([allPresPolls, polls1418], ignore_index = True)"
   ]
  },
  {
   "cell_type": "code",
   "execution_count": 43,
   "metadata": {},
   "outputs": [],
   "source": [
    "elections = pd.merge(elections, polls, how = \"left\",\n",
    "             on = ['state','year','office'])"
   ]
  },
  {
   "cell_type": "markdown",
   "metadata": {},
   "source": [
    "## Substitute Missing Poll Data"
   ]
  },
  {
   "cell_type": "code",
   "execution_count": 44,
   "metadata": {},
   "outputs": [],
   "source": [
    "# For senate/gov, if no data and in pres election year, use pres polls\n",
    "# else weigh nearest two state polls, ie 2015 = 0.25*2012 + 0.75*2016\n",
    "# This is meant to try and account for changes in statewide political leaning"
   ]
  },
  {
   "cell_type": "code",
   "execution_count": 45,
   "metadata": {
    "scrolled": true
   },
   "outputs": [],
   "source": [
    "noPolls = elections[elections['DemPoll'].isna()]\n",
    "noPolls = noPolls[(noPolls['year'] != 2012) & (noPolls['year'] != 2008) & (noPolls['year'] != 2004)]\n",
    "\n",
    "np = noPolls[['DemPoll','RepPoll','state','year']]"
   ]
  },
  {
   "cell_type": "code",
   "execution_count": 46,
   "metadata": {},
   "outputs": [],
   "source": [
    "np = np.drop_duplicates()\n",
    "poll2 = polls.copy()\n",
    "del poll2['office']\n",
    "poll2 = poll2.drop_duplicates()"
   ]
  },
  {
   "cell_type": "code",
   "execution_count": 47,
   "metadata": {},
   "outputs": [],
   "source": [
    "np = np.values.tolist()\n",
    "poll2 = poll2.values.tolist()"
   ]
  },
  {
   "cell_type": "code",
   "execution_count": 48,
   "metadata": {},
   "outputs": [],
   "source": [
    "for i in range(0,len(np)):\n",
    "    \n",
    "    state = np[i][2]\n",
    "    year = np[i][3]\n",
    "    \n",
    "    rem = year % 4\n",
    "    \n",
    "    lowerYr = year - rem\n",
    "    upperYr = year - rem + 4\n",
    "    \n",
    "    lowerWeight = 1 - (0.25*rem)\n",
    "    upperWeight = 1 - lowerWeight\n",
    "    \n",
    "    DemPollLow,DemPollHigh,RepPollLow,RepPollHigh = 0,0,0,0\n",
    "    \n",
    "    for j in range(0,len(poll2)):\n",
    "        \n",
    "        if state == poll2[j][2] and lowerYr == poll2[j][3]:\n",
    "            \n",
    "            DemPollLow = lowerWeight * poll2[j][0]\n",
    "            RepPollLow = lowerWeight * poll2[j][1]\n",
    "        \n",
    "        if state == poll2[j][2] and upperYr == poll2[j][3]:\n",
    "            \n",
    "            DemPollHigh = upperWeight * poll2[j][0]\n",
    "            RepPollHigh = upperWeight * poll2[j][1]\n",
    "    \n",
    "    np[i][0] = DemPollLow + DemPollHigh\n",
    "    np[i][1] = RepPollLow + RepPollHigh\n",
    "    "
   ]
  },
  {
   "cell_type": "code",
   "execution_count": 49,
   "metadata": {},
   "outputs": [],
   "source": [
    "fixedPolls = pd.DataFrame(np, columns = ['DemPoll','RepPoll','state','year'])"
   ]
  },
  {
   "cell_type": "code",
   "execution_count": 50,
   "metadata": {},
   "outputs": [],
   "source": [
    "del noPolls['DemPoll']\n",
    "del noPolls['RepPoll']"
   ]
  },
  {
   "cell_type": "code",
   "execution_count": 51,
   "metadata": {},
   "outputs": [],
   "source": [
    "fixNoPolls = noPolls.merge(fixedPolls, how = \"inner\", on = ['state','year'])"
   ]
  },
  {
   "cell_type": "code",
   "execution_count": 52,
   "metadata": {},
   "outputs": [],
   "source": [
    "elections = elections.dropna()\n",
    "elections = pd.concat([elections, fixNoPolls], ignore_index = True)"
   ]
  },
  {
   "cell_type": "code",
   "execution_count": 53,
   "metadata": {},
   "outputs": [],
   "source": [
    "elections.to_csv('electionsFixed.csv', encoding = 'utf-8', index = False)"
   ]
  }
 ],
 "metadata": {
  "kernelspec": {
   "display_name": "Python 3",
   "language": "python",
   "name": "python3"
  },
  "language_info": {
   "codemirror_mode": {
    "name": "ipython",
    "version": 3
   },
   "file_extension": ".py",
   "mimetype": "text/x-python",
   "name": "python",
   "nbconvert_exporter": "python",
   "pygments_lexer": "ipython3",
   "version": "3.8.5"
  }
 },
 "nbformat": 4,
 "nbformat_minor": 4
}
