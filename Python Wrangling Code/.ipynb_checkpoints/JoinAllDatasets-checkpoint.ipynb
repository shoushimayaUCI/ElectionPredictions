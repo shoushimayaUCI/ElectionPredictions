{
 "cells": [
  {
   "cell_type": "code",
   "execution_count": 1,
   "metadata": {},
   "outputs": [],
   "source": [
    "import pandas as pd\n",
    "import numpy as np"
   ]
  },
  {
   "cell_type": "markdown",
   "metadata": {},
   "source": [
    "## Import Wrangled Datasets"
   ]
  },
  {
   "cell_type": "code",
   "execution_count": 2,
   "metadata": {},
   "outputs": [],
   "source": [
    "elections = pd.read_csv(\"C:\\\\Users\\\\Roy\\\\Desktop\\\\Project\\\\ElectionData\\\\electionsFixed.csv\")\n",
    "\n",
    "age = pd.read_csv(\"C:\\\\Users\\\\Roy\\\\Desktop\\\\Project\\\\CountyPopData\\\\AgeGrpPopulations\\\\Age_Fixed.csv\")\n",
    "edu = pd.read_csv(\"C:\\\\Users\\\\Roy\\\\Desktop\\\\Project\\\\CountyPopData\\\\Education\\\\Education_Fixed.csv\")\n",
    "raceSex = pd.read_csv(\"C:\\\\Users\\\\Roy\\\\Desktop\\\\Project\\\\CountyPopData\\\\RaceSexPopulations\\\\RaceSexPops.csv\")\n",
    "unemployment = pd.read_csv(\"C:\\\\Users\\\\Roy\\\\Desktop\\\\Project\\\\CountyPopData\\\\Unemployment\\\\Unemployment_Fixed.csv\")"
   ]
  },
  {
   "cell_type": "markdown",
   "metadata": {},
   "source": [
    "## Merge Tables"
   ]
  },
  {
   "cell_type": "code",
   "execution_count": 3,
   "metadata": {},
   "outputs": [],
   "source": [
    "del unemployment[\"County\"] #Redundent info not needed for joining\n",
    "raceSex = raceSex.rename(columns = {\"state\":\"State FIPS Code\", \"county\":\"County FIPS Code\", \"year\":\"Year\"})\n",
    "\n",
    "finalDF = pd.merge(raceSex, unemployment, how = \"inner\",\n",
    "                  on = [\"State FIPS Code\",\"County FIPS Code\", \"Year\"])"
   ]
  },
  {
   "cell_type": "code",
   "execution_count": 4,
   "metadata": {},
   "outputs": [],
   "source": [
    "del edu[\"FIPS Code\"] #Delete redundent info again\n",
    "del edu[\"State\"]\n",
    "del edu[\"County\"]\n",
    "\n",
    "finalDF = pd.merge(finalDF, edu, how = \"inner\",\n",
    "                  on = [\"State FIPS Code\",\"County FIPS Code\", \"Year\"])"
   ]
  },
  {
   "cell_type": "code",
   "execution_count": 5,
   "metadata": {},
   "outputs": [],
   "source": [
    "del age[\"population\"] #redundent info\n",
    "age = age.rename(columns = {\"year\":\"Year\"})\n",
    "\n",
    "finalDF = pd.merge(finalDF, age, how = \"inner\",\n",
    "                  on = [\"State FIPS Code\",\"County FIPS Code\", \"Year\"])"
   ]
  },
  {
   "cell_type": "code",
   "execution_count": 6,
   "metadata": {},
   "outputs": [],
   "source": [
    "finalDF = finalDF.rename(columns = {\"stname\":\"state\",\"ctyname\":\"county\", \"Year\":\"year\"})\n",
    "\n",
    "finalDF = pd.merge(elections, finalDF, how = \"inner\",\n",
    "                  on = [\"state\",\"county\", \"year\"])\n",
    "\n",
    "del finalDF[\"State FIPS Code\"] #Only used FIPS for joining, not needed going forward\n",
    "del finalDF[\"County FIPS Code\"]\n",
    "\n",
    "finalDF = finalDF.rename(columns = {\"tot_pop\":\"population\"})"
   ]
  },
  {
   "cell_type": "code",
   "execution_count": 7,
   "metadata": {},
   "outputs": [],
   "source": [
    "finalDF.to_csv(\"combinedData.csv\", encoding = 'utf-8', index = False)"
   ]
  }
 ],
 "metadata": {
  "kernelspec": {
   "display_name": "Python 3",
   "language": "python",
   "name": "python3"
  },
  "language_info": {
   "codemirror_mode": {
    "name": "ipython",
    "version": 3
   },
   "file_extension": ".py",
   "mimetype": "text/x-python",
   "name": "python",
   "nbconvert_exporter": "python",
   "pygments_lexer": "ipython3",
   "version": "3.8.5"
  }
 },
 "nbformat": 4,
 "nbformat_minor": 4
}
