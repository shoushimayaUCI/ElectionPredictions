{
 "cells": [
  {
   "cell_type": "code",
   "execution_count": 56,
   "metadata": {},
   "outputs": [],
   "source": [
    "import pandas as pd\n",
    "import numpy as np"
   ]
  },
  {
   "cell_type": "markdown",
   "metadata": {},
   "source": [
    "## Import Wrangled Datasets"
   ]
  },
  {
   "cell_type": "code",
   "execution_count": 85,
   "metadata": {},
   "outputs": [],
   "source": [
    "elections = pd.read_csv(\"C:\\\\Users\\\\Roy\\\\Desktop\\\\Project\\\\ElectionData\\\\electionsFixed.csv\")\n",
    "\n",
    "age = pd.read_csv(\"C:\\\\Users\\\\Roy\\\\Desktop\\\\Project\\\\CountyPopData\\\\AgeGrpPopulations\\\\Age_Fixed.csv\")\n",
    "edu = pd.read_csv(\"C:\\\\Users\\\\Roy\\\\Desktop\\\\Project\\\\CountyPopData\\\\Education\\\\Education_Fixed.csv\")\n",
    "raceSex = pd.read_csv(\"C:\\\\Users\\\\Roy\\\\Desktop\\\\Project\\\\CountyPopData\\\\RaceSexPopulations\\\\RaceSexPops.csv\")\n",
    "unemployment = pd.read_csv(\"C:\\\\Users\\\\Roy\\\\Desktop\\\\Project\\\\CountyPopData\\\\Unemployment\\\\Unemployment_Fixed.csv\")"
   ]
  },
  {
   "cell_type": "markdown",
   "metadata": {},
   "source": [
    "## Merge Tables"
   ]
  },
  {
   "cell_type": "code",
   "execution_count": 86,
   "metadata": {},
   "outputs": [],
   "source": [
    "del unemployment[\"County\"] #Redundent info not needed for joining\n",
    "raceSex = raceSex.rename(columns = {\"state\":\"State FIPS Code\", \"county\":\"County FIPS Code\", \"year\":\"Year\"})\n",
    "\n",
    "finalDF = pd.merge(raceSex, unemployment, how = \"inner\",\n",
    "                  on = [\"State FIPS Code\",\"County FIPS Code\", \"Year\"])"
   ]
  },
  {
   "cell_type": "code",
   "execution_count": 87,
   "metadata": {},
   "outputs": [],
   "source": [
    "del edu[\"FIPS Code\"] #Delete redundent info again\n",
    "del edu[\"State\"]\n",
    "del edu[\"County\"]\n",
    "\n",
    "finalDF = pd.merge(finalDF, edu, how = \"inner\",\n",
    "                  on = [\"State FIPS Code\",\"County FIPS Code\", \"Year\"])"
   ]
  },
  {
   "cell_type": "code",
   "execution_count": 88,
   "metadata": {},
   "outputs": [],
   "source": [
    "del age[\"population\"] #redundent info\n",
    "age = age.rename(columns = {\"year\":\"Year\"})\n",
    "\n",
    "finalDF = pd.merge(finalDF, age, how = \"inner\",\n",
    "                  on = [\"State FIPS Code\",\"County FIPS Code\", \"Year\"])"
   ]
  },
  {
   "cell_type": "code",
   "execution_count": 89,
   "metadata": {},
   "outputs": [],
   "source": [
    "finalDF = finalDF.rename(columns = {\"stname\":\"state\",\"ctyname\":\"county\", \"Year\":\"year\"})\n",
    "\n",
    "finalDF = pd.merge(elections, finalDF, how = \"inner\",\n",
    "                  on = [\"state\",\"county\", \"year\"])\n",
    "\n",
    "del finalDF[\"State FIPS Code\"] #Only used FIPS for joining, not needed going forward\n",
    "del finalDF[\"County FIPS Code\"]\n",
    "\n",
    "finalDF = finalDF.rename(columns = {\"tot_pop\":\"population\"})"
   ]
  },
  {
   "cell_type": "code",
   "execution_count": 102,
   "metadata": {},
   "outputs": [],
   "source": [
    "#test = finalDF[(finalDF['office'] == 'Senate')&(finalDF['state'] == 'Alabama')&(finalDF['county'] == 'Autauga')]\n",
    "#test[['year','LastPartyWon','LastDemVotePercent','LastRepVotePercent','LastPartyWon_2','LastDemVotePercent_2','LastRepVotePercent_2',\n",
    "     #'LastPartyWon_3','LastDemVotePercent_3','LastRepVotePercent_3']]"
   ]
  },
  {
   "cell_type": "code",
   "execution_count": 93,
   "metadata": {},
   "outputs": [
    {
     "data": {
      "text/plain": [
       "R    49230\n",
       "D    25942\n",
       "Name: LastPartyWon, dtype: int64"
      ]
     },
     "execution_count": 93,
     "metadata": {},
     "output_type": "execute_result"
    }
   ],
   "source": [
    "finalDF['LastPartyWon'].value_counts() # value = 0 is from us (When no previous data)"
   ]
  },
  {
   "cell_type": "code",
   "execution_count": 92,
   "metadata": {},
   "outputs": [],
   "source": [
    "#Drop < 300 rows that were not D/R outcome\n",
    "dropList = ['I','IR','IS','AC','L','IND','ACP','RF','C']\n",
    "finalDF = finalDF[~finalDF['LastPartyWon'].isin(dropList)]\n",
    "finalDF = finalDF[~finalDF['winningParty'].isin(dropList)]\n",
    "\n",
    "finalDF = finalDF[~finalDF['LastPartyWon_2'].isin(dropList)]\n",
    "finalDF = finalDF[~finalDF['LastPartyWon_3'].isin(dropList)]"
   ]
  },
  {
   "cell_type": "code",
   "execution_count": 100,
   "metadata": {},
   "outputs": [],
   "source": [
    "finalDF = finalDF[~((finalDF['LastDemVotePercent'] == 0) & (finalDF['LastRepVotePercent'] == 0))]\n",
    "finalDF = finalDF[~((finalDF['LastDemVotePercent_2'] == 0) & (finalDF['LastRepVotePercent_2'] == 0))]"
   ]
  },
  {
   "cell_type": "code",
   "execution_count": 103,
   "metadata": {},
   "outputs": [],
   "source": [
    "finalDF.to_csv(\"combinedData.csv\", encoding = 'utf-8', index = False)"
   ]
  }
 ],
 "metadata": {
  "kernelspec": {
   "display_name": "Python 3",
   "language": "python",
   "name": "python3"
  },
  "language_info": {
   "codemirror_mode": {
    "name": "ipython",
    "version": 3
   },
   "file_extension": ".py",
   "mimetype": "text/x-python",
   "name": "python",
   "nbconvert_exporter": "python",
   "pygments_lexer": "ipython3",
   "version": "3.8.5"
  }
 },
 "nbformat": 4,
 "nbformat_minor": 4
}
