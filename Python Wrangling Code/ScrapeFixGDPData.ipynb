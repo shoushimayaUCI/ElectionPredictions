{
 "cells": [
  {
   "cell_type": "code",
   "execution_count": 1,
   "id": "272fea20",
   "metadata": {},
   "outputs": [],
   "source": [
    "import pandas as pd\n",
    "import requests\n",
    "from bs4 import BeautifulSoup"
   ]
  },
  {
   "cell_type": "code",
   "execution_count": 12,
   "id": "82e1f34e",
   "metadata": {},
   "outputs": [],
   "source": [
    "#Scrape table from url bottom on national annual GDP growth and change \n",
    "url = \"https://www.macrotrends.net/countries/USA/united-states/gdp-growth-rate\"\n",
    "\n",
    "table_class = \"table\"\n",
    "\n",
    "response = requests.get(url)\n",
    "#print(response.status_code) # 200"
   ]
  },
  {
   "cell_type": "code",
   "execution_count": 34,
   "id": "69166b6a",
   "metadata": {},
   "outputs": [],
   "source": [
    "soup = BeautifulSoup(response.text, 'html.parser')\n",
    "table = soup.find_all('table',{'class': table_class})\n",
    "\n",
    "gdp = pd.read_html(str(table))[1] #USA Table"
   ]
  },
  {
   "cell_type": "code",
   "execution_count": 37,
   "id": "ebf41a20",
   "metadata": {},
   "outputs": [],
   "source": [
    "gdp = gdp.droplevel(0, axis=1)"
   ]
  },
  {
   "cell_type": "code",
   "execution_count": 43,
   "id": "949a327e",
   "metadata": {},
   "outputs": [],
   "source": [
    "gdp = gdp[gdp['Year'] > 1989]"
   ]
  },
  {
   "cell_type": "code",
   "execution_count": 46,
   "id": "12787623",
   "metadata": {},
   "outputs": [],
   "source": [
    "gdp = gdp.rename(columns = {\"Annual Change\":\"Annual Change (%)\"})"
   ]
  },
  {
   "cell_type": "code",
   "execution_count": 50,
   "id": "891037b2",
   "metadata": {},
   "outputs": [],
   "source": [
    "gdp['GDP Growth (%)'] = gdp['GDP Growth (%)'].str.replace(\"%\",\"\")\n",
    "gdp['Annual Change (%)'] = gdp['Annual Change (%)'].str.replace(\"%\",\"\")"
   ]
  },
  {
   "cell_type": "code",
   "execution_count": 52,
   "id": "9e8a2c0b",
   "metadata": {},
   "outputs": [],
   "source": [
    "gdp = gdp.astype({\"GDP Growth (%)\":\"float\", \"Annual Change (%)\":\"float\"})"
   ]
  },
  {
   "cell_type": "code",
   "execution_count": 57,
   "id": "dc1527c5",
   "metadata": {},
   "outputs": [],
   "source": [
    "gdp.to_csv(\"nationalGDP.csv\", index = False)"
   ]
  }
 ],
 "metadata": {
  "kernelspec": {
   "display_name": "Python 3 (ipykernel)",
   "language": "python",
   "name": "python3"
  },
  "language_info": {
   "codemirror_mode": {
    "name": "ipython",
    "version": 3
   },
   "file_extension": ".py",
   "mimetype": "text/x-python",
   "name": "python",
   "nbconvert_exporter": "python",
   "pygments_lexer": "ipython3",
   "version": "3.9.7"
  }
 },
 "nbformat": 4,
 "nbformat_minor": 5
}
