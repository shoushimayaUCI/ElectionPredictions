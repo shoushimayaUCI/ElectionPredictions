{
 "cells": [
  {
   "cell_type": "code",
   "execution_count": 179,
   "metadata": {
    "id": "h_2C5hX_Z5H3"
   },
   "outputs": [],
   "source": [
    "import warnings\n",
    "warnings.simplefilter(action='ignore', category=FutureWarning)\n",
    "\n",
    "import pandas as pd\n",
    "import numpy as np\n",
    "import glob\n",
    "\n",
    "pd.options.mode.chained_assignment = None #remove warning"
   ]
  },
  {
   "cell_type": "markdown",
   "metadata": {},
   "source": [
    "## Get all elections in one table"
   ]
  },
  {
   "cell_type": "code",
   "execution_count": 180,
   "metadata": {},
   "outputs": [],
   "source": [
    "#Pres is different number of columns than sen/gov\n",
    "#Just read in seperatly then concatnate columns of interest\n",
    "\n",
    "pathPres = r'C:\\Users\\Roy\\Desktop\\Project\\ElectionData\\RawFiles\\President'\n",
    "pres_files = glob.glob(pathPres + \"/*.csv\")\n",
    "\n",
    "dfStoreP = []\n",
    "\n",
    "for filename in pres_files:\n",
    "    df = pd.read_csv(filename)\n",
    "    dfStoreP.append(df)\n",
    "    \n",
    "president = pd.concat(dfStoreP, axis = 0, ignore_index = True)\n",
    "\n",
    "pathSenGov = r'C:\\Users\\Roy\\Desktop\\Project\\ElectionData\\RawFiles\\SenateGovernor'\n",
    "senGov_files = glob.glob(pathSenGov + \"/*.csv\")\n",
    "\n",
    "dfStoreSG = []\n",
    "\n",
    "for filename in senGov_files:\n",
    "    df = pd.read_csv(filename)\n",
    "    dfStoreSG.append(df)\n",
    "\n",
    "senGov = pd.concat(dfStoreSG, axis = 0, ignore_index = True)\n"
   ]
  },
  {
   "cell_type": "code",
   "execution_count": 181,
   "metadata": {},
   "outputs": [],
   "source": [
    "cols = ['Office','State','RaceDate','Area','RepVotes','RepCandidate',\n",
    "       'RepStatus','DemVotes','DemCandidate','DemStatus',\n",
    "       'PluralityVotes','PluralityParty','RepVotesMajorPercent',\n",
    "       'DemVotesMajorPercent']\n",
    "\n",
    "president = president[cols]\n",
    "senGov = senGov[cols]\n",
    "\n",
    "elections = pd.concat([president, senGov], axis = 0, ignore_index = True)\n",
    "\n",
    "elections = elections.astype({\"RaceDate\":\"str\"})\n",
    "elections['RaceDate'] = elections['RaceDate'].str[0:4]\n",
    "elections = elections[elections['RaceDate'] != 'nan']\n",
    "elections = elections.astype({\"RaceDate\":\"int\"})\n",
    "\n",
    "elections = elections.rename(columns = str.lower)"
   ]
  },
  {
   "cell_type": "code",
   "execution_count": 182,
   "metadata": {},
   "outputs": [],
   "source": [
    "#Sometimes it will be a 1 party race i.e. no dem/rep candidate. Replace with 0 instead of dropping.\n",
    "#(Drop these rows later, just need them as non-null to correctly get vote %s of previous elections)\n",
    "elections = elections[elections['demvotes'] != 'Unopposed'] # 1 case\n",
    "\n",
    "elections['repvotes'] = elections['repvotes'].fillna(\"0\") \n",
    "elections['repcandidate'] = elections['repcandidate'].fillna(\"0\") \n",
    "elections['repstatus'] = elections['repstatus'].fillna(\"0\") \n",
    "\n",
    "elections['demvotes'] = elections['demvotes'].fillna(\"0\")\n",
    "elections['demstatus'] = elections['demstatus'].fillna(\"0\")\n",
    "elections['demcandidate'] = elections['demcandidate'].fillna(\"0\")"
   ]
  },
  {
   "cell_type": "code",
   "execution_count": 183,
   "metadata": {},
   "outputs": [],
   "source": [
    "elections['repvotes'] = elections['repvotes'].str.replace(\",\",\"\")\n",
    "elections['demvotes'] = elections['demvotes'].str.replace(\",\",\"\")\n",
    "elections['pluralityvotes'] = elections['pluralityvotes'].str.replace(\",\",\"\")\n",
    "\n",
    "elections = elections.astype({\"repvotes\":\"int\",\"demvotes\":\"int\",\n",
    "                             \"pluralityvotes\":\"int\"})"
   ]
  },
  {
   "cell_type": "code",
   "execution_count": 184,
   "metadata": {},
   "outputs": [],
   "source": [
    "#Make county name lowercase then capitalize first letter each word ie \"los angeles\" --> \"Los Angeles\"\n",
    "#This is for name matching with other tables that will be joined\n",
    "elections['area'] = elections['area'].str.lower()\n",
    "elections['area'] = elections['area'].str.title()"
   ]
  },
  {
   "cell_type": "code",
   "execution_count": 185,
   "metadata": {},
   "outputs": [],
   "source": [
    "#Rename some columns\n",
    "elections = elections.rename(columns = {\"area\":\"county\", \"racedate\":\"year\", \"pluralityparty\":\"winningParty\"})"
   ]
  },
  {
   "cell_type": "markdown",
   "metadata": {
    "id": "M9E5zYJ6Z5IJ"
   },
   "source": [
    "## Add previous election data in county / state"
   ]
  },
  {
   "cell_type": "code",
   "execution_count": 186,
   "metadata": {
    "id": "hPfvpeEtZ5IJ"
   },
   "outputs": [],
   "source": [
    "pres = elections[elections['office'] == 'President']\n",
    "sen = elections[elections['office'] == 'Senate']\n",
    "gov = elections[elections['office'] == 'Governor']"
   ]
  },
  {
   "cell_type": "code",
   "execution_count": 187,
   "metadata": {
    "id": "8hcghTFdZ5IK"
   },
   "outputs": [],
   "source": [
    "#LO = last outcome, LRP = Last Republican vote %, LDP = Last Democract vote %\n",
    "presLO = np.zeros(shape = (len(pres),3) , dtype = 'object')\n",
    "presLRP, presLDP = np.zeros(shape = (len(pres),3) , dtype = 'float'), np.zeros(shape = (len(pres),3) , dtype = 'float')\n",
    "\n",
    "senLO = np.zeros(shape = (len(sen),3) , dtype = 'object')\n",
    "senLRP, senLDP = np.zeros(shape = (len(sen),3), dtype = 'float'), np.zeros(shape = (len(sen),3), dtype = 'float')\n",
    "\n",
    "govLO = np.zeros(shape = (len(gov),3) , dtype = 'object')\n",
    "govLRP, govLDP = np.zeros(shape = (len(gov),3), dtype = 'float'), np.zeros(shape = (len(gov),3), dtype = 'float')"
   ]
  },
  {
   "cell_type": "code",
   "execution_count": 188,
   "metadata": {
    "id": "CngtcefqZ5IL"
   },
   "outputs": [],
   "source": [
    "pres = pres.sort_values(by=['year'], ascending = False)\n",
    "sen = sen.sort_values(by=['year'], ascending = False)\n",
    "gov = gov.sort_values(by=['year'], ascending = False)\n",
    "\n",
    "presE = pres[['year','state','county','winningParty','demvotesmajorpercent','repvotesmajorpercent']]\n",
    "senE = sen[['year','state','county','winningParty','demvotesmajorpercent','repvotesmajorpercent']]\n",
    "govE = gov[['year','state','county','winningParty','demvotesmajorpercent','repvotesmajorpercent']]\n",
    "\n",
    "presL = presE.values.tolist()\n",
    "senL = senE.values.tolist()\n",
    "govL = govE.values.tolist()"
   ]
  },
  {
   "cell_type": "code",
   "execution_count": 189,
   "metadata": {
    "id": "YYrrSA0PZ5IM"
   },
   "outputs": [],
   "source": [
    "#Make more efficient??\n",
    "\n",
    "def findPrevData(dataList, df, prevOutcome, prevDemVotes, prevRepVotes, senFlag):\n",
    "    '''Find the 3 previous county election data(Outcome, rep/dem votes%)'''\n",
    "    for i in range(0, len(dataList)):\n",
    "        \n",
    "        year = dataList[i][0]\n",
    "        state = dataList[i][1]\n",
    "        county = dataList[i][2]\n",
    "        \n",
    "        if year >= 1990: #years of interest\n",
    "        \n",
    "            subDF = df[(df['county'] == county) & (df['state'] == state) & (df['year'] < year)]\n",
    "            \n",
    "            if senFlag == 0: #President/Governor election\n",
    "                \n",
    "                #last election\n",
    "                if len(subDF) >= 1:\n",
    "                    prevOutcome[i][0] = subDF.iloc[0]['winningParty']\n",
    "                    prevDemVotes[i][0] = subDF.iloc[0]['demvotesmajorpercent']\n",
    "                    prevRepVotes[i][0] = subDF.iloc[0]['repvotesmajorpercent']\n",
    "                \n",
    "                #2nd last election\n",
    "                if len(subDF) >= 2:\n",
    "                    prevOutcome[i][1] = subDF.iloc[1]['winningParty']\n",
    "                    prevDemVotes[i][1] = subDF.iloc[1]['demvotesmajorpercent']\n",
    "                    prevRepVotes[i][1] = subDF.iloc[1]['repvotesmajorpercent']\n",
    "                \n",
    "                #3rd last election\n",
    "                if len(subDF) >= 3:\n",
    "                    prevOutcome[i][2] = subDF.iloc[2]['winningParty']\n",
    "                    prevDemVotes[i][2] = subDF.iloc[2]['demvotesmajorpercent']\n",
    "                    prevRepVotes[i][2] = subDF.iloc[2]['repvotesmajorpercent']\n",
    "                \n",
    "            else: #Senate, make sure to use previous elections for the SAME seat(each state has 2 seats)\n",
    "                \n",
    "                #last elections\n",
    "                if len(subDF) >= 2:\n",
    "                    prevOutcome[i][0] = subDF.iloc[1]['winningParty']\n",
    "                    prevDemVotes[i][0] = subDF.iloc[1]['demvotesmajorpercent']\n",
    "                    prevRepVotes[i][0] = subDF.iloc[1]['repvotesmajorpercent']\n",
    "                \n",
    "                #2nd last election\n",
    "                if len(subDF) >= 4:\n",
    "                    prevOutcome[i][1] = subDF.iloc[3]['winningParty']\n",
    "                    prevDemVotes[i][1] = subDF.iloc[3]['demvotesmajorpercent']\n",
    "                    prevRepVotes[i][1] = subDF.iloc[3]['repvotesmajorpercent']\n",
    "                \n",
    "                #3rd last election\n",
    "                if len(subDF) >= 6:\n",
    "                    prevOutcome[i][2] = subDF.iloc[5]['winningParty']\n",
    "                    prevDemVotes[i][2] = subDF.iloc[5]['demvotesmajorpercent']\n",
    "                    prevRepVotes[i][2] = subDF.iloc[5]['repvotesmajorpercent']\n",
    "        \n",
    "    return (prevOutcome, prevDemVotes, prevRepVotes)\n",
    "    \n",
    "presLO, presLDP, presLRP = findPrevData(presL, presE, presLO, presLDP, presLRP, 0)\n",
    "senLO, senLDP, senLRP = findPrevData(senL, senE, senLO, senLDP, senLRP, 1)\n",
    "govLO, govLDP, govLRP = findPrevData(govL, govE, govLO, govLDP, govLRP, 0)"
   ]
  },
  {
   "cell_type": "code",
   "execution_count": 190,
   "metadata": {
    "id": "4g_OX-EnZ5IN"
   },
   "outputs": [],
   "source": [
    "pres['LastPartyWon'], pres['LastDemVotePercent'], pres['LastRepVotePercent'] = presLO[:,0].tolist(), presLDP[:,0].tolist(), presLRP[:,0].tolist()\n",
    "pres['LastPartyWon_2'], pres['LastDemVotePercent_2'], pres['LastRepVotePercent_2'] = presLO[:,1].tolist(), presLDP[:,1].tolist(), presLRP[:,1].tolist()\n",
    "pres['LastPartyWon_3'], pres['LastDemVotePercent_3'], pres['LastRepVotePercent_3'] = presLO[:,2].tolist(), presLDP[:,2].tolist(), presLRP[:,2].tolist()\n",
    "\n",
    "sen['LastPartyWon'], sen['LastDemVotePercent'], sen['LastRepVotePercent'] = senLO[:,0].tolist(), senLDP[:,0].tolist(), senLRP[:,0].tolist()\n",
    "sen['LastPartyWon_2'], sen['LastDemVotePercent_2'], sen['LastRepVotePercent_2'] = senLO[:,1].tolist(), senLDP[:,1].tolist(), senLRP[:,1].tolist()\n",
    "sen['LastPartyWon_3'], sen['LastDemVotePercent_3'], sen['LastRepVotePercent_3'] = senLO[:,2].tolist(), senLDP[:,2].tolist(), senLRP[:,2].tolist()\n",
    "\n",
    "\n",
    "gov['LastPartyWon'], gov['LastDemVotePercent'], gov['LastRepVotePercent'] = govLO[:,0].tolist(), govLDP[:,0].tolist(), govLRP[:,0].tolist()\n",
    "gov['LastPartyWon_2'], gov['LastDemVotePercent_2'], gov['LastRepVotePercent_2'] = govLO[:,1].tolist(), govLDP[:,1].tolist(), govLRP[:,1].tolist()\n",
    "gov['LastPartyWon_3'], gov['LastDemVotePercent_3'], gov['LastRepVotePercent_3'] = govLO[:,2].tolist(), govLDP[:,2].tolist(), govLRP[:,2].tolist()\n"
   ]
  },
  {
   "cell_type": "code",
   "execution_count": 191,
   "metadata": {
    "id": "iFRdFphLZ5IO"
   },
   "outputs": [],
   "source": [
    "del pres['demvotesmajorpercent']\n",
    "del sen['demvotesmajorpercent']\n",
    "del gov['demvotesmajorpercent']\n",
    "\n",
    "del pres['repvotesmajorpercent']\n",
    "del sen['repvotesmajorpercent']\n",
    "del gov['repvotesmajorpercent']"
   ]
  },
  {
   "cell_type": "code",
   "execution_count": 192,
   "metadata": {
    "id": "M488mZIyZ5IO"
   },
   "outputs": [],
   "source": [
    "elections = pd.concat([pres,sen,gov])"
   ]
  },
  {
   "cell_type": "code",
   "execution_count": 193,
   "metadata": {},
   "outputs": [],
   "source": [
    "#CHECK\n",
    "elections = elections[elections['year'] >= 1990]"
   ]
  },
  {
   "cell_type": "code",
   "execution_count": 194,
   "metadata": {},
   "outputs": [],
   "source": [
    "#elections[elections['LastPartyWon'] == 0]\n",
    "#Remove rows that had data inconsistencies\n",
    "elections = elections[elections['LastPartyWon'] != 0]\n",
    "elections = elections[elections['LastRepVotePercent_3'] != 0]"
   ]
  },
  {
   "cell_type": "code",
   "execution_count": 195,
   "metadata": {},
   "outputs": [],
   "source": [
    "elections = elections[(elections['winningParty'] == 'D') | (elections['winningParty'] == 'R')]\n",
    "\n",
    "#Remove elections that were 1 party races i.e. 2014 Alabama senate election\n",
    "elections = elections[(elections['demvotes']!= 0 ) & (elections['demstatus'] != '0') & (elections['demcandidate'] != '0')]\n",
    "elections = elections[(elections['repvotes']!= 0 ) & (elections['repstatus'] != '0') & (elections['repcandidate'] != '0')]"
   ]
  },
  {
   "cell_type": "code",
   "execution_count": 196,
   "metadata": {
    "id": "Hdgpr4-BZ5IP"
   },
   "outputs": [],
   "source": [
    "# Add results of each election at state level each county row\n",
    "testFrame = elections\n",
    "\n",
    "df_new = testFrame.groupby(['state', 'office', 'year'])[\"repvotes\", \"demvotes\"].sum()"
   ]
  },
  {
   "cell_type": "code",
   "execution_count": 197,
   "metadata": {
    "id": "p-NcOxojZ5IP"
   },
   "outputs": [],
   "source": [
    "df_new['StateResult'] = np.where(\n",
    "    df_new['repvotes'] > df_new['demvotes'], 'R', 'D')\n",
    "\n",
    "del df_new['repvotes']\n",
    "del df_new['demvotes']\n",
    "\n",
    "elections = pd.merge(elections, df_new, how = \"inner\",\n",
    "                    on = [\"state\", \"office\", \"year\"])"
   ]
  },
  {
   "cell_type": "code",
   "execution_count": 198,
   "metadata": {
    "id": "s1vA_hubZ5IP"
   },
   "outputs": [],
   "source": [
    "# Add CountyStateRatio - Ratio of how many times county election outcome matches state election outcome\n",
    "testFrame = elections[['state','county','winningParty','StateResult']]\n",
    "\n",
    "# Set binary outcome column to 1 if county outcome matches state outcome, 0 if no match and take mean to get ratio \n",
    "testFrame['matchingOutcomes'] = np.where(\n",
    "    testFrame['winningParty'] == testFrame['StateResult'], 1, 0)"
   ]
  },
  {
   "cell_type": "code",
   "execution_count": 199,
   "metadata": {
    "id": "6VxXgwyGZ5IQ"
   },
   "outputs": [],
   "source": [
    "del testFrame['winningParty']\n",
    "del testFrame['StateResult']\n",
    "\n",
    "df = testFrame.groupby(['state','county'], as_index = False)['matchingOutcomes'].mean()"
   ]
  },
  {
   "cell_type": "code",
   "execution_count": 200,
   "metadata": {
    "id": "wAWfattWZ5IQ"
   },
   "outputs": [],
   "source": [
    "elections = pd.merge(elections, df, how = \"inner\",\n",
    "                    on = [\"state\",\"county\"])"
   ]
  },
  {
   "cell_type": "code",
   "execution_count": 201,
   "metadata": {
    "id": "gbpa0v96Z5IQ"
   },
   "outputs": [],
   "source": [
    "#Now add matching outcomes ratio for specific office type between county/state\n",
    "pres = elections[elections['office'] == 'President']\n",
    "sen = elections[elections['office'] == 'Senate']\n",
    "gov = elections[elections['office'] == 'Governor']\n",
    "\n",
    "presT = pres[['state','county','winningParty','StateResult']]\n",
    "senT = sen[['state','county','winningParty','StateResult']]\n",
    "govT = gov[['state','county','winningParty','StateResult']]\n",
    "\n",
    "presT['officeMatchingOutcome'] = np.where(\n",
    "    presT['winningParty'] == presT['StateResult'], 1, 0)\n",
    "\n",
    "senT['officeMatchingOutcome'] = np.where(\n",
    "    senT['winningParty'] == senT['StateResult'], 1, 0)\n",
    "\n",
    "govT['officeMatchingOutcome'] = np.where(\n",
    "    govT['winningParty'] == govT['StateResult'], 1, 0)\n",
    "\n",
    "del presT['winningParty']\n",
    "del presT['StateResult']\n",
    "del senT['winningParty']\n",
    "del senT['StateResult']\n",
    "del govT['winningParty']\n",
    "del govT['StateResult']"
   ]
  },
  {
   "cell_type": "code",
   "execution_count": 202,
   "metadata": {
    "id": "prqQ1gHIZ5IR"
   },
   "outputs": [],
   "source": [
    "presDF = presT.groupby(['state','county'], as_index = False)['officeMatchingOutcome'].mean()\n",
    "pres = pd.merge(pres, presDF, how = \"inner\",\n",
    "               on = ['state','county'])\n",
    "\n",
    "senDF = senT.groupby(['state','county'], as_index = False)['officeMatchingOutcome'].mean()\n",
    "sen = pd.merge(sen, senDF, how = \"inner\",\n",
    "               on = ['state','county'])\n",
    "\n",
    "govDF = govT.groupby(['state','county'], as_index = False)['officeMatchingOutcome'].mean()\n",
    "gov = pd.merge(gov, govDF, how = \"inner\",\n",
    "               on = ['state','county'])\n",
    "\n",
    "elections = pd.concat([pres,sen,gov])"
   ]
  },
  {
   "cell_type": "markdown",
   "metadata": {
    "id": "iGvnOs61Z5IR"
   },
   "source": [
    "## Add 2020 Presidential Polling Data (State level)"
   ]
  },
  {
   "cell_type": "code",
   "execution_count": 203,
   "metadata": {
    "id": "MnHYL0wIZ5IS"
   },
   "outputs": [
    {
     "name": "stderr",
     "output_type": "stream",
     "text": [
      "C:\\Users\\Roy\\anaconda3\\lib\\site-packages\\IPython\\core\\interactiveshell.py:3146: DtypeWarning: Columns (9) have mixed types.Specify dtype option on import or set low_memory=False.\n",
      "  has_raised = await self.run_ast_nodes(code_ast.body, cell_name,\n"
     ]
    }
   ],
   "source": [
    "#df is the combined data before adding polling data\n",
    "df = pd.read_csv(\"C:\\\\Users\\\\Roy\\\\Desktop\\\\Project\\\\combinedData.csv\")\n",
    "pres2020 = pd.read_csv(\"C:\\\\Users\\\\Roy\\\\Desktop\\\\Project\\\\StatePollingData\\\\2020Pres538PollAvgs.csv\")"
   ]
  },
  {
   "cell_type": "code",
   "execution_count": 204,
   "metadata": {
    "id": "O-j7LwEjZ5IS"
   },
   "outputs": [],
   "source": [
    "#Only the latest poll values since polls closer to election are better than polls\n",
    "#months before elections due to undecided voters making their mind\n",
    "\n",
    "pres2020 = pres2020.loc[pres2020['modeldate'] == '11/3/2020']\n",
    "del pres2020['pct_estimate']"
   ]
  },
  {
   "cell_type": "code",
   "execution_count": 205,
   "metadata": {
    "id": "exK05vDOZ5IS"
   },
   "outputs": [],
   "source": [
    "pres2020D = pres2020[pres2020['candidate_name'] == 'Joseph R. Biden Jr.']\n",
    "pres2020R = pres2020[pres2020['candidate_name'] == 'Donald Trump']"
   ]
  },
  {
   "cell_type": "code",
   "execution_count": 206,
   "metadata": {
    "id": "c1n7iBaeZ5IT"
   },
   "outputs": [],
   "source": [
    "del pres2020D['candidate_name']\n",
    "del pres2020D['modeldate']\n",
    "\n",
    "del pres2020R['candidate_name']\n",
    "del pres2020R['modeldate']"
   ]
  },
  {
   "cell_type": "code",
   "execution_count": 207,
   "metadata": {
    "id": "Dn6csnSkZ5IT"
   },
   "outputs": [],
   "source": [
    "pres2020D = pres2020D.rename(columns={\"pct_trend_adjusted\": \"DemPoll\", \"cycle\": \"year\"})\n",
    "pres2020R = pres2020R.rename(columns={\"pct_trend_adjusted\": \"RepPoll\", \"cycle\": \"year\"})"
   ]
  },
  {
   "cell_type": "code",
   "execution_count": 208,
   "metadata": {
    "id": "AF_A3sg7Z5IT"
   },
   "outputs": [],
   "source": [
    "poll2020Pres = pd.merge(pres2020D, pres2020R, how = \"inner\",\n",
    "                        on = [\"state\", \"year\"])\n",
    "\n",
    "poll2020Pres = poll2020Pres[['DemPoll','RepPoll','state','year']]\n",
    "\n",
    "#For joining purposes\n",
    "poll2020Pres['office'] = 'President'"
   ]
  },
  {
   "cell_type": "markdown",
   "metadata": {
    "id": "Q4rhWe40Z5IU"
   },
   "source": [
    "## Add 1992 - 2016 Presidential Poll Data (State level) (FiveThirtyEight)"
   ]
  },
  {
   "cell_type": "code",
   "execution_count": 209,
   "metadata": {
    "id": "4hOOzFL3Z5IU"
   },
   "outputs": [],
   "source": [
    "#pres contains FiveThirtyEight's weighted polling averages of it's collected polls for presidential\n",
    "#elections from 1968-2016\n",
    "\n",
    "pres = pd.read_csv(\"C:\\\\Users\\\\Roy\\\\Desktop\\\\Project\\\\StatePollingData\\\\1968to2016Pres538PollAvgs.csv\",\n",
    "                  usecols = [0,1,2,3,6])\n",
    "\n",
    "electionDates = [\"11/8/2016\",\"11/6/2012\",\"11/4/2008\",\"11/2/2004\",\n",
    "                 \"11/7/2000\",\"11/5/1996\",\"11/3/1992\"]"
   ]
  },
  {
   "cell_type": "code",
   "execution_count": 210,
   "metadata": {
    "id": "lJtTUi_UZ5IU"
   },
   "outputs": [],
   "source": [
    "pres = pres.loc[pres['modeldate'].isin(electionDates)]"
   ]
  },
  {
   "cell_type": "code",
   "execution_count": 211,
   "metadata": {
    "id": "n2SHJb-ZZ5IU"
   },
   "outputs": [],
   "source": [
    "demCandidates = ['Hillary Rodham Clinton','Barack Obama',\n",
    "                 'John Kerry','Al Gore','Bill Clinton']\n",
    "\n",
    "presD = pres.loc[pres['candidate_name'].isin(demCandidates)]\n",
    "\n",
    "repCandidates = ['Donald Trump','Mitt Romney', 'John McCain', \n",
    "                 'George W. Bush', 'George Bush', 'Bob Dole']\n",
    "\n",
    "presR = pres.loc[pres['candidate_name'].isin(repCandidates)]"
   ]
  },
  {
   "cell_type": "code",
   "execution_count": 212,
   "metadata": {
    "id": "dw3RKqHWZ5IV"
   },
   "outputs": [],
   "source": [
    "del presR[\"modeldate\"]\n",
    "del presR[\"candidate_name\"]\n",
    "del presD[\"modeldate\"]\n",
    "del presD[\"candidate_name\"]"
   ]
  },
  {
   "cell_type": "code",
   "execution_count": 213,
   "metadata": {
    "id": "8dRn4EQnZ5IV"
   },
   "outputs": [],
   "source": [
    "presD = presD.rename(columns={\"pct_trend_adjusted\": \"DemPoll\", \"cycle\": \"year\"})\n",
    "presR = presR.rename(columns={\"pct_trend_adjusted\": \"RepPoll\", \"cycle\": \"year\"})"
   ]
  },
  {
   "cell_type": "code",
   "execution_count": 214,
   "metadata": {
    "id": "nTrRfK8aZ5IV"
   },
   "outputs": [],
   "source": [
    "pollPres = pd.merge(presD, presR, how = \"inner\",\n",
    "                        on = [\"state\", \"year\"])\n",
    "\n",
    "pollPres = pollPres[['DemPoll','RepPoll','state','year']]\n",
    "pollPres['office'] = 'President'"
   ]
  },
  {
   "cell_type": "code",
   "execution_count": 215,
   "metadata": {
    "id": "ymfxfQcMZ5IW"
   },
   "outputs": [],
   "source": [
    "allPresPolls = pd.concat([poll2020Pres, pollPres], ignore_index = True)"
   ]
  },
  {
   "cell_type": "markdown",
   "metadata": {
    "id": "EIGGK2EDZ5IW"
   },
   "source": [
    "## Add Senate/Governor polling (Roper Center)"
   ]
  },
  {
   "cell_type": "code",
   "execution_count": 216,
   "metadata": {
    "id": "BKila_qnZ5IW"
   },
   "outputs": [],
   "source": [
    "#Needed because some years use state number instead of state name\n",
    "stateOrder = {\n",
    "    1:\"Alabama\",\n",
    "    2:\"Alaska\",\n",
    "    3:\"Arizona\",\n",
    "    4:\"Arkansas\",\n",
    "    5:\"California\",\n",
    "    6:\"Colorado\",\n",
    "    7:\"Connecticut\",\n",
    "    8:\"Delaware\",\n",
    "    9:\"Florida\",\n",
    "    10:\"Georgia\",\n",
    "    11:\"Hawaii\",\n",
    "    12:\"Idaho\",\n",
    "    13:\"Illinois\",\n",
    "    14:\"Indiana\",\n",
    "    15:\"Iowa\",\n",
    "    16:\"Kansas\",\n",
    "    17:\"Kentucky\",\n",
    "    18:\"Louisiana\",\n",
    "    19:\"Maine\",\n",
    "    20:\"Maryland\",\n",
    "    21:\"Massachusetts\",\n",
    "    22:\"Michigan\",\n",
    "    23:\"Minnesota\",\n",
    "    24:\"Mississippi\",\n",
    "    25:\"Missouri\",\n",
    "    26:\"Montana\",\n",
    "    27:\"Nebraska\",\n",
    "    28:\"Nevada\",\n",
    "    29:\"New Hampshire\",\n",
    "    30:\"New Jersey\",\n",
    "    31:\"New Mexico\",\n",
    "    32:\"New York\",\n",
    "    33:\"North Carolina\",\n",
    "    34:\"North Dakota\",\n",
    "    35:\"Ohio\",\n",
    "    36:\"Oklahoma\",\n",
    "    37:\"Oregon\",\n",
    "    38:\"Pennsylvania\",\n",
    "    39:\"Rhode Island\",\n",
    "    40:\"South Carolina\",\n",
    "    41:\"South Dakota\",\n",
    "    42:\"Tennessee\",\n",
    "    43:\"Texas\",\n",
    "    44:\"Utah\",\n",
    "    45:\"Vermont\",\n",
    "    46:\"Virginia\",\n",
    "    47:\"Washington\",\n",
    "    48:\"West Virginia\",\n",
    "    49:\"Wisconsin\",\n",
    "    50:\"Wyoming\",\n",
    "    51:\"Washington DC\"\n",
    "}"
   ]
  },
  {
   "cell_type": "code",
   "execution_count": 217,
   "metadata": {
    "id": "iKQrnZqNZ5IX"
   },
   "outputs": [],
   "source": [
    "path = r'C:\\Users\\Roy\\Desktop\\Project\\StatePollingData\\SenGovPolls'\n",
    "all_files = glob.glob(path +  \"/*.csv\")\n",
    "\n",
    "dfStore = []\n",
    "\n",
    "cols = [\"year\", \"STATE\", \"SEN\", \"GOV\"]\n",
    "\n",
    "for fileName in all_files:\n",
    "    df = pd.read_csv(fileName)\n",
    "    dfStore.append(df)\n",
    "    \n",
    "senGovPolls = pd.concat(dfStore, axis = 0, ignore_index = True)"
   ]
  },
  {
   "cell_type": "code",
   "execution_count": 218,
   "metadata": {
    "id": "d6JtAWBXZ5IX"
   },
   "outputs": [],
   "source": [
    "senGovPolls = senGovPolls.replace({'STATE':stateOrder})\n",
    "senGovPolls['STATE'] = senGovPolls['STATE'].str.lstrip()\n",
    "senGovPolls['STATE'] = senGovPolls['STATE'].str.lower()\n",
    "senGovPolls['STATE'] = senGovPolls['STATE'].str.title()"
   ]
  },
  {
   "cell_type": "code",
   "execution_count": 219,
   "metadata": {
    "id": "MZupM0OMZ5IX"
   },
   "outputs": [],
   "source": [
    "#Weird issue with 2010 data file\n",
    "senGovPolls = senGovPolls[senGovPolls['GOV'] != 'Did not vote for U.S. House']\n",
    "senGovPolls = senGovPolls[senGovPolls['SEN'] != 'Did not vote for U.S. House']"
   ]
  },
  {
   "cell_type": "code",
   "execution_count": 220,
   "metadata": {
    "id": "JEF9u_T0Z5IX"
   },
   "outputs": [],
   "source": [
    "senDict = {'DEMOCRAT':'D','REPUBLICAN':'R',\n",
    "           'OTHER':\"Other\",'OTHER PARTY':\"Other\", \"DID NOT VOTE\":\"Other\", 'INDEPENDENT':\"Other\",\n",
    "           'INDEPENDENT_duplicated_4':\"Other\", \"REPUBLICAN (ONLY LOUSIANA)_duplicated_7\":\"R\",\n",
    "           'REPUBLICAN (ONLY LOUSIANA)':\"R\", 'The Democratic candidate':\"D\",\n",
    "           'The Republican candidate':\"R\", 'Did not vote for U.S. senator':\"Other\", \"Did not vote\":\"Other\"}\n",
    "\n",
    "govDict ={'DEMOCRAT':\"D\",'REPUBLICAN':\"R\", \"OTHER\":\"Other\",'OTHER PARTY':\"Other\",\"DID NOT VOTE\":\"Other\",\n",
    "         \"INDEPENDENT\":\"Other\",'INDEPENDENT_duplicated_4':\"Other\",'The Democratic candidate':\"D\",\n",
    "         \"The Republican candidate\":\"R\",'Did not vote for governor':\"Other\",\"Did not vote\":\"Other\"}"
   ]
  },
  {
   "cell_type": "code",
   "execution_count": 221,
   "metadata": {
    "id": "RdY7EyMdZ5IY"
   },
   "outputs": [],
   "source": [
    "senGovPolls = senGovPolls.replace({\"SEN\":senDict})\n",
    "senGovPolls = senGovPolls.replace({\"GOV\":govDict})"
   ]
  },
  {
   "cell_type": "code",
   "execution_count": 222,
   "metadata": {
    "id": "3IJ3VxYXZ5IY"
   },
   "outputs": [],
   "source": [
    "senPolls = senGovPolls[['year','STATE','SEN']]\n",
    "govPolls = senGovPolls[['year','STATE','GOV']]"
   ]
  },
  {
   "cell_type": "code",
   "execution_count": 223,
   "metadata": {
    "id": "N8wHZOIaZ5IY"
   },
   "outputs": [],
   "source": [
    "senPolls = senPolls.dropna()\n",
    "govPolls = govPolls.dropna()"
   ]
  },
  {
   "cell_type": "code",
   "execution_count": 224,
   "metadata": {
    "id": "DcrKbMwHZ5IY"
   },
   "outputs": [],
   "source": [
    "# FIX SENATE POLLS\n",
    "senPollsD = senPolls[senPolls['SEN'] == 'D']\n",
    "senPollsR = senPolls[senPolls['SEN'] == 'R']\n",
    "senPollsOther = senPolls[senPolls['SEN'] == 'Other']\n",
    "\n",
    "senPollsD = senPollsD.groupby(['year','STATE'], as_index = False)['SEN'].count()\n",
    "senPollsD = senPollsD.rename(columns = {'SEN' : 'DemCount'})\n",
    "\n",
    "senPollsR = senPollsR.groupby(['year','STATE'], as_index = False)['SEN'].count()\n",
    "senPollsR = senPollsR.rename(columns = {'SEN' : 'RepCount'})\n",
    "\n",
    "senPollsOther = senPollsOther.groupby(['year','STATE'], as_index = False)['SEN'].count()\n",
    "senPollsOther = senPollsOther.rename(columns = {'SEN' : 'OtherCount'})"
   ]
  },
  {
   "cell_type": "code",
   "execution_count": 225,
   "metadata": {
    "id": "YP6mLk0QZ5IZ"
   },
   "outputs": [],
   "source": [
    "senPolls = pd.merge(senPollsD, senPollsR, how = \"inner\",\n",
    "             on = ['year','STATE'])\n",
    "\n",
    "senPolls = pd.merge(senPolls, senPollsOther, how = \"left\",\n",
    "             on = ['year','STATE'])"
   ]
  },
  {
   "cell_type": "code",
   "execution_count": 226,
   "metadata": {
    "id": "TMgnCKFhZ5IZ"
   },
   "outputs": [],
   "source": [
    "senPolls['OtherCount'] = senPolls['OtherCount'].fillna(0)\n",
    "\n",
    "senPolls['DemPoll'] = (senPolls['DemCount'] / (senPolls['DemCount'] + senPolls['RepCount'] + senPolls['OtherCount']))*100\n",
    "senPolls['RepPoll'] = (senPolls['RepCount'] / (senPolls['DemCount'] + senPolls['RepCount'] + senPolls['OtherCount']))*100"
   ]
  },
  {
   "cell_type": "code",
   "execution_count": 227,
   "metadata": {
    "id": "HdDxcEfYZ5IZ"
   },
   "outputs": [],
   "source": [
    "senPolls = senPolls.rename(columns = {'STATE':\"state\"})\n",
    "senPolls = senPolls[['year','state','DemPoll','RepPoll']]\n",
    "senPolls['office'] = 'Senate'"
   ]
  },
  {
   "cell_type": "code",
   "execution_count": 228,
   "metadata": {
    "id": "ko_XemP5Z5IZ"
   },
   "outputs": [],
   "source": [
    "# FIX GOVERNOR POLLS\n",
    "govPollsD = govPolls[govPolls['GOV'] == 'D']\n",
    "govPollsR = govPolls[govPolls['GOV'] == 'R']\n",
    "govPollsOther = govPolls[govPolls['GOV'] == 'Other']\n",
    "\n",
    "govPollsD = govPollsD.groupby(['year','STATE'], as_index = False)['GOV'].count()\n",
    "govPollsD = govPollsD.rename(columns = {'GOV':'DemCount'})\n",
    "\n",
    "govPollsR = govPollsR.groupby(['year','STATE'], as_index = False)['GOV'].count()\n",
    "govPollsR = govPollsR.rename(columns = {'GOV':'RepCount'})\n",
    "\n",
    "govPollsOther = govPollsOther.groupby(['year','STATE'], as_index = False)['GOV'].count()\n",
    "govPollsOther = govPollsOther.rename(columns = {'GOV':'OtherCount'})"
   ]
  },
  {
   "cell_type": "code",
   "execution_count": 229,
   "metadata": {
    "id": "Bo7wHyh4Z5IZ"
   },
   "outputs": [],
   "source": [
    "govPolls = pd.merge(govPollsD, govPollsR, how = \"inner\",\n",
    "             on = ['year','STATE'])\n",
    "\n",
    "govPolls = pd.merge(govPolls, govPollsOther, how = \"left\",\n",
    "             on = ['year','STATE'])"
   ]
  },
  {
   "cell_type": "code",
   "execution_count": 230,
   "metadata": {
    "id": "u-sD0xR_Z5Ia"
   },
   "outputs": [],
   "source": [
    "govPolls['OtherCount'] = govPolls['OtherCount'].fillna(0)\n",
    "\n",
    "govPolls['DemPoll'] = (govPolls['DemCount'] / (govPolls['DemCount'] + govPolls['RepCount'] + govPolls['OtherCount']))*100\n",
    "govPolls['RepPoll'] = (govPolls['RepCount'] / (govPolls['DemCount'] + govPolls['RepCount'] + govPolls['OtherCount']))*100"
   ]
  },
  {
   "cell_type": "code",
   "execution_count": 231,
   "metadata": {
    "id": "QV9yDjWPZ5Ia"
   },
   "outputs": [],
   "source": [
    "govPolls = govPolls.rename(columns = {\"STATE\":\"state\"})\n",
    "govPolls = govPolls[['year','state','DemPoll','RepPoll']]\n",
    "govPolls['office'] = 'Governor'"
   ]
  },
  {
   "cell_type": "code",
   "execution_count": 232,
   "metadata": {
    "id": "fxPJIrLWZ5Ia"
   },
   "outputs": [],
   "source": [
    "senPolls = senPolls[['DemPoll','RepPoll','state','year','office']]\n",
    "govPolls = govPolls[['DemPoll','RepPoll','state','year','office']]"
   ]
  },
  {
   "cell_type": "code",
   "execution_count": 233,
   "metadata": {
    "id": "NQ98NS47Z5Ia"
   },
   "outputs": [],
   "source": [
    "senGovPolls = pd.concat([senPolls, govPolls], ignore_index = True)\n",
    "polls = pd.concat([allPresPolls, senGovPolls], ignore_index = True)"
   ]
  },
  {
   "cell_type": "code",
   "execution_count": 234,
   "metadata": {
    "id": "0T1kDQzVZ5Ib"
   },
   "outputs": [],
   "source": [
    "elections = pd.merge(elections, polls, how = \"left\",\n",
    "             on = ['state','year','office'])"
   ]
  },
  {
   "cell_type": "markdown",
   "metadata": {
    "id": "ZFsHCyzyZ5Ib"
   },
   "source": [
    "## Substitute Missing Poll Data"
   ]
  },
  {
   "cell_type": "code",
   "execution_count": 235,
   "metadata": {
    "id": "5xR6Q8pfZ5Ib"
   },
   "outputs": [],
   "source": [
    "# Drop rows where with no poll data at all (Not included in 538 president as well)\n",
    "# Wyoming 2004&2012, Delaware 2012, Mississippi 2012, Alaska 2012\n",
    "elections = elections.drop(elections[(elections['state'] == 'Mississippi') & (elections['year'] == 2012)].index)\n",
    "elections = elections.drop(elections[(elections['state'] == 'Alaska') & (elections['year'] == 2012)].index)\n",
    "elections = elections.drop(elections[(elections['state'] == 'Delaware') & (elections['year'] == 2012)].index)\n",
    "elections = elections.drop(elections[(elections['state'] == 'Wyoming') & (elections['year'] == 2012)].index)\n",
    "elections = elections.drop(elections[(elections['state'] == 'Wyoming') & (elections['year'] == 2004)].index)"
   ]
  },
  {
   "cell_type": "code",
   "execution_count": 236,
   "metadata": {
    "id": "YjOiVcJHZ5Id",
    "scrolled": true
   },
   "outputs": [],
   "source": [
    "noPolls = elections[elections['DemPoll'].isna()]\n",
    "#noPolls = noPolls[(noPolls['year'] != 2012) & (noPolls['year'] != 2008) & (noPolls['year'] != 2004)]\n",
    "\n",
    "np = noPolls[['DemPoll','RepPoll','state','year','office']]"
   ]
  },
  {
   "cell_type": "code",
   "execution_count": 237,
   "metadata": {
    "id": "xNP_aqSwZ5Id"
   },
   "outputs": [],
   "source": [
    "np = np.drop_duplicates()\n",
    "poll2 = allPresPolls.copy()\n",
    "del poll2['office']\n",
    "poll2 = poll2.drop_duplicates()"
   ]
  },
  {
   "cell_type": "code",
   "execution_count": 238,
   "metadata": {
    "id": "KHoPH77kZ5Id"
   },
   "outputs": [],
   "source": [
    "np = np.values.tolist()\n",
    "poll2 = poll2.values.tolist()"
   ]
  },
  {
   "cell_type": "code",
   "execution_count": 239,
   "metadata": {
    "id": "C5AjdU9RZ5Ie"
   },
   "outputs": [],
   "source": [
    "for i in range(0,len(np)):\n",
    "    \n",
    "    state = np[i][2]\n",
    "    year = np[i][3]\n",
    "    \n",
    "    if year == 1990 or year == 1991: #Edge case\n",
    "        desYr = 1992\n",
    "        DemPoll, RepPoll = 0,0\n",
    "        \n",
    "        for j in range(0,len(poll2)):\n",
    "            \n",
    "            if state == poll2[j][2] and desYr == poll2[j][3]: #If no 1992 data\n",
    "                \n",
    "                DemPoll = poll2[j][0]\n",
    "                RepPoll = poll2[j][1]\n",
    "                \n",
    "        np[i][0] = DemPoll\n",
    "        np[i][1] = RepPoll\n",
    "        \n",
    "    else:\n",
    "        rem = year % 4\n",
    "    \n",
    "        lowerYr = year - rem\n",
    "        upperYr = year - rem + 4\n",
    "    \n",
    "        lowerWeight = 1 - (0.25*rem)\n",
    "        upperWeight = 1 - lowerWeight\n",
    "    \n",
    "        DemPollLow,DemPollHigh,RepPollLow,RepPollHigh = 0,0,0,0\n",
    "    \n",
    "        for j in range(0,len(poll2)):\n",
    "        \n",
    "            if state == poll2[j][2] and lowerYr == poll2[j][3]:\n",
    "            \n",
    "                DemPollLow = lowerWeight * poll2[j][0]\n",
    "                RepPollLow = lowerWeight * poll2[j][1]\n",
    "        \n",
    "            if state == poll2[j][2] and upperYr == poll2[j][3]:\n",
    "            \n",
    "                DemPollHigh = upperWeight * poll2[j][0]\n",
    "                RepPollHigh = upperWeight * poll2[j][1]\n",
    "    \n",
    "        np[i][0] = DemPollLow + DemPollHigh\n",
    "        np[i][1] = RepPollLow + RepPollHigh\n",
    "    "
   ]
  },
  {
   "cell_type": "code",
   "execution_count": 240,
   "metadata": {
    "id": "TuCbTSbiZ5Ie"
   },
   "outputs": [],
   "source": [
    "fixedPolls = pd.DataFrame(np, columns = ['DemPoll','RepPoll','state','year','office'])"
   ]
  },
  {
   "cell_type": "code",
   "execution_count": 241,
   "metadata": {
    "id": "CxGR1inSZ5Ii"
   },
   "outputs": [],
   "source": [
    "del noPolls['DemPoll']\n",
    "del noPolls['RepPoll']"
   ]
  },
  {
   "cell_type": "code",
   "execution_count": 242,
   "metadata": {
    "id": "AUmq5eUIZ5Ij"
   },
   "outputs": [],
   "source": [
    "fixNoPolls = noPolls.merge(fixedPolls, how = \"inner\", on = ['state','year','office'])"
   ]
  },
  {
   "cell_type": "code",
   "execution_count": 243,
   "metadata": {
    "id": "xcI80-7kZ5Ij"
   },
   "outputs": [],
   "source": [
    "elections = elections.dropna()"
   ]
  },
  {
   "cell_type": "code",
   "execution_count": 244,
   "metadata": {
    "id": "SHGGqxLkZ5Ik"
   },
   "outputs": [],
   "source": [
    "#elections"
   ]
  },
  {
   "cell_type": "code",
   "execution_count": 245,
   "metadata": {
    "id": "0tt8qU_dZ5Ik"
   },
   "outputs": [],
   "source": [
    "elections = pd.concat([elections, fixNoPolls], ignore_index = True)"
   ]
  },
  {
   "cell_type": "code",
   "execution_count": 246,
   "metadata": {
    "id": "SVcVvcjjZ5Il"
   },
   "outputs": [],
   "source": [
    "del elections['repvotes']\n",
    "del elections['demvotes']\n",
    "del elections['pluralityvotes']"
   ]
  },
  {
   "cell_type": "code",
   "execution_count": 247,
   "metadata": {
    "id": "ulmh-VUWZ5Il"
   },
   "outputs": [],
   "source": [
    "elections = elections.sort_values(by=['year'], ascending = False)\n",
    "elections.to_csv('electionsFixed.csv', encoding = 'utf-8', index = False)"
   ]
  }
 ],
 "metadata": {
  "colab": {
   "name": "FixElectionsData.ipynb",
   "provenance": []
  },
  "kernelspec": {
   "display_name": "Python 3",
   "language": "python",
   "name": "python3"
  },
  "language_info": {
   "codemirror_mode": {
    "name": "ipython",
    "version": 3
   },
   "file_extension": ".py",
   "mimetype": "text/x-python",
   "name": "python",
   "nbconvert_exporter": "python",
   "pygments_lexer": "ipython3",
   "version": "3.8.5"
  }
 },
 "nbformat": 4,
 "nbformat_minor": 1
}
