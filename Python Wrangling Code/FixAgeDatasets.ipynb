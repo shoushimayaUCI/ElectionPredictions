{
 "cells": [
  {
   "cell_type": "code",
   "execution_count": 1,
   "metadata": {},
   "outputs": [],
   "source": [
    "import pandas as pd\n",
    "import numpy as np\n",
    "import glob"
   ]
  },
  {
   "cell_type": "markdown",
   "metadata": {},
   "source": [
    "## Import Datasets"
   ]
  },
  {
   "cell_type": "code",
   "execution_count": 2,
   "metadata": {},
   "outputs": [
    {
     "name": "stderr",
     "output_type": "stream",
     "text": [
      "C:\\Users\\Roy\\anaconda3\\lib\\site-packages\\IPython\\core\\interactiveshell.py:3146: DtypeWarning: Columns (6,39,42,45,48,51,54,57,60,63,66,69,72,75,78,81,84,87,90) have mixed types.Specify dtype option on import or set low_memory=False.\n",
      "  has_raised = await self.run_ast_nodes(code_ast.body, cell_name,\n"
     ]
    }
   ],
   "source": [
    "#2010-2020 Age data\n",
    "age2020 = pd.read_csv(\"C:\\\\Users\\\\Roy\\\\Desktop\\\\Project\\\\CountyPopData\\\\AgeGrpPopulations\\\\2010sAge\\\\20102020age.csv\",\n",
    "                     usecols = [1,2,5,6,39,42,45,48,51,54,57,60,63,66,69,72,\n",
    "                                75,78,81,84,87,90])\n",
    "\n",
    "age2020.columns = age2020.columns.str.lower()\n",
    "\n",
    "#2000-2010 Age data (remove 2010 and use 2010 from 2010-2020 dataset)\n",
    "#50 files (1/state)\n",
    "\n",
    "path = r'C:\\Users\\Roy\\Desktop\\Project\\CountyPopData\\AgeGrpPopulations\\2000sAge'\n",
    "all_files = glob.glob(path + \"/*.csv\")\n",
    "\n",
    "dfStore = []\n",
    "\n",
    "for fileName in all_files:\n",
    "    df = pd.read_csv(fileName, index_col = None, header = 0, encoding = \"ISO-8859-1\")\n",
    "    dfStore.append(df)\n",
    "\n",
    "age2010 = pd.concat(dfStore, axis = 0, ignore_index = True)\n",
    "age2010.columns = age2010.columns.str.lower()\n",
    "age2010 = age2010[[\"state\",\"county\",\"year\",\"agegrp\",\"tot_pop\"]].copy()\n",
    "\n",
    "#1990-1999 Age data\n",
    "#10 files (1/year)\n",
    "\n",
    "path = r'C:\\Users\\Roy\\Desktop\\Project\\CountyPopData\\AgeGrpPopulations\\1990sAge'\n",
    "all_files = glob.glob(path + \"/*.csv\")\n",
    "\n",
    "dfStore = []\n",
    "\n",
    "for fileName in all_files:\n",
    "    df = pd.read_csv(fileName, index_col = None, header = None)\n",
    "    dfStore.append(df)\n",
    "\n",
    "age2000 = pd.concat(dfStore, axis = 0, ignore_index = True)\n",
    "age2000.columns = [\"year\",\"fips\",\"agegrp\",\"racesex\",\"ethncty\",\"population\"]"
   ]
  },
  {
   "cell_type": "markdown",
   "metadata": {},
   "source": [
    "## Fix 1990-1999 Dataset"
   ]
  },
  {
   "cell_type": "code",
   "execution_count": 3,
   "metadata": {},
   "outputs": [],
   "source": [
    "age2000 = age2000.astype({'year':'str', 'fips':'str'})\n",
    "\n",
    "age2000[\"State FIPS Code\"] = age2000[\"fips\"].str[:-3]\n",
    "age2000[\"County FIPS Code\"] = age2000[\"fips\"].str[-3:]\n",
    "\n",
    "del age2000['fips']\n",
    "del age2000['racesex']\n",
    "del age2000['ethncty']\n",
    "\n",
    "age2000['year'] = '19' + age2000['year'].astype(str)\n",
    "\n",
    "age2000 = age2000.astype({'year':'int', 'State FIPS Code':'int', 'County FIPS Code':'int'})"
   ]
  },
  {
   "cell_type": "code",
   "execution_count": 4,
   "metadata": {},
   "outputs": [],
   "source": [
    "age19902000 = age2000.groupby([\"State FIPS Code\", \"County FIPS Code\", \"year\", \"agegrp\"]).population.sum().reset_index()\n",
    "age19902000 = age19902000.groupby([\"State FIPS Code\", \"County FIPS Code\", \"year\"]).population.sum().reset_index()"
   ]
  },
  {
   "cell_type": "code",
   "execution_count": 5,
   "metadata": {},
   "outputs": [],
   "source": [
    "age2000 = age2000.groupby([\"State FIPS Code\", \"County FIPS Code\", \"year\", \"agegrp\"]).population.sum().reset_index()"
   ]
  },
  {
   "cell_type": "code",
   "execution_count": 6,
   "metadata": {},
   "outputs": [],
   "source": [
    "ageGroups = [\"age<1\",\"age14\",\"age59\",\"age1014\",\"age1519\",\"age2024\",\n",
    "             \"age2529\",\"age3034\",\"age3539\",\"age4044\",\"age4549\",\"age5054\",\n",
    "             \"age5559\",\"age6064\",\"age6569\",\"age7074\",\"age7579\",\"age8084\",\n",
    "             \"age85plus\"]\n",
    "\n",
    "#Create column for each ageGroup in each county in each year\n",
    "for i in range(0, len(ageGroups)):\n",
    "    age19902000[ageGroups[i]] = age2000[age2000[\"agegrp\"] == i]['population'].tolist()\n",
    "\n",
    "age19902000['age14'] = age19902000['age14'] + age19902000['age<1']\n",
    "\n",
    "del age19902000['age<1']\n",
    "\n",
    "age19902000 = age19902000.rename(columns = {'age14':'age04'})"
   ]
  },
  {
   "cell_type": "code",
   "execution_count": 7,
   "metadata": {},
   "outputs": [],
   "source": [
    "ageGroups = [\"age04\",\"age59\",\"age1014\",\"age1519\",\"age2024\",\n",
    "             \"age2529\",\"age3034\",\"age3539\",\"age4044\",\"age4549\",\"age5054\",\n",
    "             \"age5559\",\"age6064\",\"age6569\",\"age7074\",\"age7579\",\"age8084\",\n",
    "             \"age85plus\"]\n",
    "\n",
    "#Instead of counts use proportions of different age groups\n",
    "for colName in ageGroups:\n",
    "    age19902000[colName] = age19902000[colName] / age19902000['population']"
   ]
  },
  {
   "cell_type": "code",
   "execution_count": 9,
   "metadata": {},
   "outputs": [],
   "source": [
    "#Fixed\n",
    "#age19902000"
   ]
  },
  {
   "cell_type": "markdown",
   "metadata": {},
   "source": [
    "## Fix 2000-2009 Dataset"
   ]
  },
  {
   "cell_type": "code",
   "execution_count": 10,
   "metadata": {},
   "outputs": [],
   "source": [
    "yearMap = {1:0, 2:2000, 3:2001, 4:2002, 5:2003,\n",
    "           6:2004, 7:2005, 8:2006, 9:2007, 10:2008,\n",
    "           11:2009, 12:0, 13:0}\n",
    "\n",
    "age2010 = age2010.replace({\"year\":yearMap})\n",
    "age2010 = age2010[age2010[\"year\"] != 0]\n",
    "age2010 = age2010[age2010[\"agegrp\"] != 99]"
   ]
  },
  {
   "cell_type": "code",
   "execution_count": 11,
   "metadata": {},
   "outputs": [],
   "source": [
    "age20002009 = age2010.groupby([\"state\", \"county\", \"year\", \"agegrp\"]).tot_pop.sum().reset_index()\n",
    "age20002009 = age20002009.groupby([\"state\", \"county\", \"year\"]).tot_pop.sum().reset_index()"
   ]
  },
  {
   "cell_type": "code",
   "execution_count": 12,
   "metadata": {},
   "outputs": [],
   "source": [
    "age2010 = age2010.groupby([\"state\", \"county\", \"year\", \"agegrp\"]).tot_pop.sum().reset_index()"
   ]
  },
  {
   "cell_type": "code",
   "execution_count": 13,
   "metadata": {},
   "outputs": [],
   "source": [
    "ageGroups = [\"age<1\",\"age14\",\"age59\",\"age1014\",\"age1519\",\"age2024\",\n",
    "             \"age2529\",\"age3034\",\"age3539\",\"age4044\",\"age4549\",\"age5054\",\n",
    "             \"age5559\",\"age6064\",\"age6569\",\"age7074\",\"age7579\",\"age8084\",\n",
    "             \"age85plus\"]\n",
    "\n",
    "#Create column for each ageGroup in each county in each year (Same mapping and list used in 1990-1999 fix above)\n",
    "for i in range(0, len(ageGroups)):\n",
    "    age20002009[ageGroups[i]] = age2010[age2010[\"agegrp\"] == i]['tot_pop'].tolist()\n",
    "\n",
    "age20002009['age14'] = age20002009['age14'] + age20002009['age<1']\n",
    "del age20002009['age<1']\n",
    "age20002009 = age20002009.rename(columns = {'age14':'age04'})"
   ]
  },
  {
   "cell_type": "code",
   "execution_count": 16,
   "metadata": {},
   "outputs": [],
   "source": [
    "ageGroups = [\"age04\",\"age59\",\"age1014\",\"age1519\",\"age2024\",\n",
    "             \"age2529\",\"age3034\",\"age3539\",\"age4044\",\"age4549\",\"age5054\",\n",
    "             \"age5559\",\"age6064\",\"age6569\",\"age7074\",\"age7579\",\"age8084\",\n",
    "             \"age85plus\"]\n",
    "\n",
    "#Instead of counts use proportions of different age groups\n",
    "for colName in ageGroups:\n",
    "    age20002009[colName] = age20002009[colName] / age20002009['tot_pop']"
   ]
  },
  {
   "cell_type": "code",
   "execution_count": 17,
   "metadata": {},
   "outputs": [],
   "source": [
    "age20002009 = age20002009.rename(columns = {'state':'State FIPS Code', 'county':'County FIPS Code',\n",
    "                                           'tot_pop':'population'})"
   ]
  },
  {
   "cell_type": "code",
   "execution_count": 19,
   "metadata": {},
   "outputs": [],
   "source": [
    "#Fixed\n",
    "#age20002009"
   ]
  },
  {
   "cell_type": "markdown",
   "metadata": {},
   "source": [
    "## Fix 2010-2020 Dataset"
   ]
  },
  {
   "cell_type": "code",
   "execution_count": 20,
   "metadata": {},
   "outputs": [],
   "source": [
    "yearMap = {1:0, 2:0, 3:2010, 4:2011, 5:2012, 6:2013, 7:2014,\n",
    "           8:2015, 9:2016, 10:2017, 11:2018, 12:2019, 13:0, 14:2020}\n",
    "\n",
    "age2020 = age2020.replace({\"year\": yearMap})\n",
    "age2020 = age2020[age2020['year'] != 0]"
   ]
  },
  {
   "cell_type": "code",
   "execution_count": 21,
   "metadata": {},
   "outputs": [],
   "source": [
    "columnNames = [\"State FIPS Code\", \"County FIPS Code\", \"year\", \"population\"] + ageGroups\n",
    "\n",
    "age2020.columns = columnNames"
   ]
  },
  {
   "cell_type": "code",
   "execution_count": 36,
   "metadata": {},
   "outputs": [],
   "source": [
    "#Change column dtypes to float\n",
    "age2020 = age2020.astype({\"population\":\"int\",\"age04\":\"int\",\"age59\":\"int\",\"age1014\":\"int\",\"age1519\":\"int\",\"age2024\":\"int\",\n",
    "             \"age2529\":\"int\",\"age3034\":\"int\",\"age3539\":\"int\",\"age4044\":\"int\",\"age4549\":\"int\",\"age5054\":\"int\",\n",
    "             \"age5559\":\"int\",\"age6064\":\"int\",\"age6569\":\"int\",\"age7074\":\"int\",\"age7579\":\"int\",\"age8084\":\"int\",\n",
    "             \"age85plus\":\"int\"})\n",
    "\n",
    "for colName in ageGroups:\n",
    "    age2020[colName] = age2020[colName] / age2020['population']"
   ]
  },
  {
   "cell_type": "code",
   "execution_count": 38,
   "metadata": {},
   "outputs": [],
   "source": [
    "#Fixed\n",
    "#age2020"
   ]
  },
  {
   "cell_type": "markdown",
   "metadata": {},
   "source": [
    "## Concatenate Fixed Datasets"
   ]
  },
  {
   "cell_type": "code",
   "execution_count": 40,
   "metadata": {},
   "outputs": [],
   "source": [
    "ageData = pd.concat([age19902000, age20002009, age2020], axis = 0, ignore_index = True)"
   ]
  },
  {
   "cell_type": "code",
   "execution_count": 42,
   "metadata": {},
   "outputs": [],
   "source": [
    "ageData.to_csv('Age_Fixed.csv', encoding = 'utf-8', index = False)"
   ]
  }
 ],
 "metadata": {
  "kernelspec": {
   "display_name": "Python 3",
   "language": "python",
   "name": "python3"
  },
  "language_info": {
   "codemirror_mode": {
    "name": "ipython",
    "version": 3
   },
   "file_extension": ".py",
   "mimetype": "text/x-python",
   "name": "python",
   "nbconvert_exporter": "python",
   "pygments_lexer": "ipython3",
   "version": "3.8.5"
  }
 },
 "nbformat": 4,
 "nbformat_minor": 4
}
