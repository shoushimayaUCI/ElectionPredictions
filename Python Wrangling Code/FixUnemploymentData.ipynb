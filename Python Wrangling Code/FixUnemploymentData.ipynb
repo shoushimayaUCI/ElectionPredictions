{
 "cells": [
  {
   "cell_type": "code",
   "execution_count": 1,
   "metadata": {},
   "outputs": [],
   "source": [
    "import pandas as pd\n",
    "import numpy as np\n",
    "import glob"
   ]
  },
  {
   "cell_type": "code",
   "execution_count": 2,
   "metadata": {},
   "outputs": [],
   "source": [
    "#Import each annual dataset 1990-2020\n",
    "\n",
    "path = r\"C:\\Users\\Roy\\Desktop\\Project\\CountyPopData\\Unemployment\\RawData\"\n",
    "all_files = glob.glob(path + \"/*.csv\")\n",
    "\n",
    "dfStore = []\n",
    "\n",
    "cols = [\"LAUS Code\",\"State FIPS Code\",\"County FIPS Code\",\"County\",\"Year\",\"Labor Force Size\",\n",
    "       \"Employed\",\"Unemployed\",\"Unemployment Rate\"]\n",
    "\n",
    "for fileName in all_files:\n",
    "    df = pd.read_csv(fileName, skiprows = 6, names = cols, index_col = None, header = None)\n",
    "    dfStore.append(df)\n",
    "    \n",
    "unemployment = pd.concat(dfStore, axis = 0, ignore_index = True)"
   ]
  },
  {
   "cell_type": "code",
   "execution_count": 3,
   "metadata": {},
   "outputs": [],
   "source": [
    "#Remove null rows present in some files\n",
    "unemployment = unemployment.dropna()\n",
    "unemployment = unemployment[unemployment.Employed != \"N.A.\"]\n",
    "\n",
    "#Remove State Abbreviations\n",
    "unemployment[\"County\"] = unemployment[\"County\"].str[:-4]\n",
    "unemployment[\"County\"] = unemployment[\"County\"].str.replace(\" County\",\"\")\n",
    "\n",
    "#Remove commas to cast columns to integers\n",
    "unemployment[\"Labor Force Size\"] = unemployment[\"Labor Force Size\"].str.replace(\",\",\"\")\n",
    "unemployment[\"Employed\"] = unemployment[\"Employed\"].str.replace(\",\",\"\")\n",
    "unemployment[\"Unemployed\"] = unemployment[\"Unemployed\"].str.replace(\",\",\"\")\n",
    "\n",
    "unemployment = unemployment.astype({\"State FIPS Code\":\"int\", \"County FIPS Code\":\"int\",\n",
    "                                   \"Year\":\"int\", \"Labor Force Size\":\"int\", \"Employed\":\"int\",\n",
    "                                   \"Unemployed\":\"int\", \"Unemployment Rate\":\"float\"})"
   ]
  },
  {
   "cell_type": "code",
   "execution_count": 4,
   "metadata": {},
   "outputs": [],
   "source": [
    "del unemployment[\"LAUS Code\"]\n",
    "#unemployment"
   ]
  },
  {
   "cell_type": "code",
   "execution_count": 5,
   "metadata": {},
   "outputs": [],
   "source": [
    "unemployment.to_csv('Unemployment_Fixed.csv', encoding = 'utf-8', index = False)"
   ]
  }
 ],
 "metadata": {
  "kernelspec": {
   "display_name": "Python 3",
   "language": "python",
   "name": "python3"
  },
  "language_info": {
   "codemirror_mode": {
    "name": "ipython",
    "version": 3
   },
   "file_extension": ".py",
   "mimetype": "text/x-python",
   "name": "python",
   "nbconvert_exporter": "python",
   "pygments_lexer": "ipython3",
   "version": "3.8.5"
  }
 },
 "nbformat": 4,
 "nbformat_minor": 4
}
